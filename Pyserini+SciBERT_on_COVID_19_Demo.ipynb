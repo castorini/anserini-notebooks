{
 "cells": [
  {
   "cell_type": "markdown",
   "metadata": {
    "colab_type": "text",
    "id": "view-in-github"
   },
   "source": [
    "<a href=\"https://colab.research.google.com/github/castorini/anserini-notebooks/blob/master/Pyserini%2BSciBERT_on_COVID_19_Demo.ipynb\" target=\"_parent\"><img src=\"https://colab.research.google.com/assets/colab-badge.svg\" alt=\"Open In Colab\"/></a>"
   ]
  },
  {
   "cell_type": "markdown",
   "metadata": {
    "colab_type": "text",
    "id": "vUpmSFflwzR1"
   },
   "source": [
    "# Pyserini Demo on COVID-19 Dataset (Title + Abstract Index) \n",
    "# with HuggingFace Transformers based visualization\n"
   ]
  },
  {
   "cell_type": "markdown",
   "metadata": {
    "colab_type": "text",
    "id": "0RtnmBN6A-Oq"
   },
   "source": [
    "This notebook provides a demo on how to get started in searching the [COVID-19 Open Research Dataset](https://pages.semanticscholar.org/coronavirus-research) (release of 2020/03/20) from AI2.\n",
    "In this notebook, we'll be working with the title + abstract index. \n",
    "Specifically, we're not indexing the full text (that'll come later, soon!).\n"
   ]
  },
  {
   "cell_type": "code",
   "execution_count": 1,
   "metadata": {
    "colab": {},
    "colab_type": "code",
    "id": "q93fI77dY9HU"
   },
   "outputs": [],
   "source": [
    "from IPython.core.display import display, HTML"
   ]
  },
  {
   "cell_type": "markdown",
   "metadata": {
    "colab_type": "text",
    "id": "f2vNd7bpJlDZ"
   },
   "source": [
    "First, install Python dependencies"
   ]
  },
  {
   "cell_type": "code",
   "execution_count": 2,
   "metadata": {
    "colab": {},
    "colab_type": "code",
    "id": "E_lt0-pXJia0"
   },
   "outputs": [],
   "source": [
    "%%capture\n",
    "!pip install pyserini==0.8.1.0\n",
    "!pip install transformers\n",
    "\n",
    "import json\n",
    "import os\n",
    "os.environ[\"JAVA_HOME\"] = \"/usr/lib/jvm/java-11-openjdk-amd64\"\n",
    "# os.environ[\"JAVA_HOME\"] = \"/Library/Java/JavaVirtualMachines/jdk-13.0.2.jdk/Contents/Home\""
   ]
  },
  {
   "cell_type": "markdown",
   "metadata": {
    "colab_type": "text",
    "id": "xbXmstbGypef"
   },
   "source": [
    "Let's grab the pre-built index:"
   ]
  },
  {
   "cell_type": "code",
   "execution_count": null,
   "metadata": {
    "colab": {},
    "colab_type": "code",
    "id": "JT_OJKftdqGP"
   },
   "outputs": [],
   "source": [
    "%%capture\n",
    "!wget https://www.dropbox.com/s/uvjwgy4re2myq5s/lucene-index-covid-2020-03-20.tar.gz\n",
    "!tar xvfz lucene-index-covid-2020-03-20.tar.gz"
   ]
  },
  {
   "cell_type": "markdown",
   "metadata": {},
   "source": [
    "Sanity check of index size (should be 1.3G):"
   ]
  },
  {
   "cell_type": "code",
   "execution_count": 3,
   "metadata": {
    "colab": {
     "base_uri": "https://localhost:8080/",
     "height": 34
    },
    "colab_type": "code",
    "id": "KVXWA6WS0aqJ",
    "outputId": "3f2cf09f-2891-4433-ec59-21acfba6b345"
   },
   "outputs": [
    {
     "name": "stdout",
     "output_type": "stream",
     "text": [
      "1,3G\tlucene-index-covid-2020-03-20\r\n"
     ]
    }
   ],
   "source": [
    "!du -h lucene-index-covid-2020-03-20"
   ]
  },
  {
   "cell_type": "markdown",
   "metadata": {
    "colab_type": "text",
    "id": "e98LWXwXSxG1"
   },
   "source": [
    "Let's load BioBERT (https://arxiv.org/abs/1901.08746) from HuggingFace Transformers"
   ]
  },
  {
   "cell_type": "code",
   "execution_count": 5,
   "metadata": {
    "colab": {},
    "colab_type": "code",
    "id": "UBlFYHejSr2H"
   },
   "outputs": [],
   "source": [
    "import torch\n",
    "import numpy\n",
    "from tqdm import tqdm\n",
    "from transformers import *\n",
    "import warnings\n",
    "warnings.simplefilter(action='ignore', category=FutureWarning)"
   ]
  },
  {
   "cell_type": "code",
   "execution_count": 113,
   "metadata": {
    "colab": {},
    "colab_type": "code",
    "id": "UBlFYHejSr2H"
   },
   "outputs": [],
   "source": [
    "tokenizer = AutoTokenizer.from_pretrained('monologg/biobert_v1.1_pubmed', do_lower_case=False)\n",
    "model = AutoModel.from_pretrained('monologg/biobert_v1.1_pubmed')"
   ]
  },
  {
   "cell_type": "markdown",
   "metadata": {
    "colab_type": "text",
    "id": "NkD0kKxW9mHP"
   },
   "source": [
    "You can use `pysearch` to search over an index. Here's the basic usage:"
   ]
  },
  {
   "cell_type": "code",
   "execution_count": 114,
   "metadata": {},
   "outputs": [],
   "source": [
    "COVID_INDEX = 'lucene-index-covid-2020-03-20/'\n",
    "\n",
    "def show_query(query):\n",
    "    \"\"\"HTML print format for the searched query\"\"\"\n",
    "    return HTML('<br/><div style=\"font-family: Times New Roman; font-size: 20px;'\n",
    "                'padding-bottom:12px\"><b>Query</b>: '+query+'</div>')\n",
    "\n",
    "def show_document(idx, doc):\n",
    "    \"\"\"HTML print format for document fields\"\"\"\n",
    "    have_body_text = 'body_text' in json.loads(doc.raw)\n",
    "    body_text = 'Full text available.' if have_body_text else ''\n",
    "    return HTML('<div style=\"font-family: Times New Roman; font-size: 18px; padding-bottom:10px\">' + \n",
    "               f'<b>Document {idx}:</b> {doc.docid} ({doc.score:1.2f}) -- ' +\n",
    "               f'{doc.lucene_document.get(\"authors\")} et al. ' +\n",
    "             # f'{doc.lucene_document.get(\"journal\")}. ' +\n",
    "             # f'{doc.lucene_document.get(\"publish_time\")}. ' +\n",
    "               f'{doc.lucene_document.get(\"title\")}. ' +\n",
    "               f'<a href=\"https://doi.org/{doc.lucene_document.get(\"doi\")}\">{doc.lucene_document.get(\"doi\")}</a>.'\n",
    "               + f'{body_text}</div>')\n",
    "\n",
    "def show_query_results(query, searcher, top_k=10):\n",
    "    \"\"\"HTML print format for the searched query\"\"\"\n",
    "    hits = searcher.search(COVID_INDEX)\n",
    "    display(show_query(query))\n",
    "    for i, hit in enumerate(hits[:top_k]):\n",
    "        display(show_document(i+1, hit))\n",
    "    return hits[:top_k]   "
   ]
  },
  {
   "cell_type": "code",
   "execution_count": 115,
   "metadata": {
    "colab": {
     "base_uri": "https://localhost:8080/",
     "height": 439
    },
    "colab_type": "code",
    "id": "yFZlcqEX0t1f",
    "outputId": "2dfd5af9-00fe-4a6c-95f2-d093c9dabea7"
   },
   "outputs": [
    {
     "data": {
      "text/html": [
       "<br/><div style=\"font-family: Times New Roman; font-size: 20px;padding-bottom:12px\"><b>Query</b>: these differences reside in the molecular structure of spike proteins and some other factors. Which receptor combination(s) will cause maximum harm</div>"
      ],
      "text/plain": [
       "<IPython.core.display.HTML object>"
      ]
     },
     "metadata": {},
     "output_type": "display_data"
    },
    {
     "data": {
      "text/html": [
       "<div style=\"font-family: Times New Roman; font-size: 18px; padding-bottom:10px\"><b>Document 1:</b> 40407 (11.41) -- Dalin Li et al. Estimating the scale of COVID-19 Epidemic in the United States: Simulations Based on Air Traffic directly from Wuhan, China. <a href=\"https://doi.org/10.1101/2020.03.06.20031880\">10.1101/2020.03.06.20031880</a>.</div>"
      ],
      "text/plain": [
       "<IPython.core.display.HTML object>"
      ]
     },
     "metadata": {},
     "output_type": "display_data"
    },
    {
     "data": {
      "text/html": [
       "<div style=\"font-family: Times New Roman; font-size: 18px; padding-bottom:10px\"><b>Document 2:</b> 40419 (10.22) -- Xu-wei Hong et al. Analysis of early renal injury in COVID-19 and diagnostic value of multi-index combined detection. <a href=\"https://doi.org/10.1101/2020.03.07.20032599\">10.1101/2020.03.07.20032599</a>.</div>"
      ],
      "text/plain": [
       "<IPython.core.display.HTML object>"
      ]
     },
     "metadata": {},
     "output_type": "display_data"
    },
    {
     "data": {
      "text/html": [
       "<div style=\"font-family: Times New Roman; font-size: 18px; padding-bottom:10px\"><b>Document 3:</b> 40511 (10.09) -- Amirhoshang Hoseinpour Dehkordi et al. Understanding Epidemic Data and Statistics: A case study of COVID-19. <a href=\"https://doi.org/10.1101/2020.03.15.20036418\">10.1101/2020.03.15.20036418</a>.Full text available.</div>"
      ],
      "text/plain": [
       "<IPython.core.display.HTML object>"
      ]
     },
     "metadata": {},
     "output_type": "display_data"
    },
    {
     "data": {
      "text/html": [
       "<div style=\"font-family: Times New Roman; font-size: 18px; padding-bottom:10px\"><b>Document 4:</b> 40218 (9.50) -- Zhanwei Du et al. The serial interval of COVID-19 from publicly reported confirmed cases. <a href=\"https://doi.org/10.1101/2020.02.19.20025452\">10.1101/2020.02.19.20025452</a>.</div>"
      ],
      "text/plain": [
       "<IPython.core.display.HTML object>"
      ]
     },
     "metadata": {},
     "output_type": "display_data"
    },
    {
     "data": {
      "text/html": [
       "<div style=\"font-family: Times New Roman; font-size: 18px; padding-bottom:10px\"><b>Document 5:</b> 19299 (9.24) -- Fan YANG et al. Experience in prevention and control of COVID-19 in tramatological and microsurgical wards. <a href=\"https://doi.org/\"></a>.</div>"
      ],
      "text/plain": [
       "<IPython.core.display.HTML object>"
      ]
     },
     "metadata": {},
     "output_type": "display_data"
    },
    {
     "data": {
      "text/html": [
       "<div style=\"font-family: Times New Roman; font-size: 18px; padding-bottom:10px\"><b>Document 6:</b> 18923 (8.82) -- A. A. Mohammed Al-qaness et al. Prevention Is Better Than the Cure: Risk Management of COVID-19. <a href=\"https://doi.org/10.3390/jrfm13030046\">10.3390/jrfm13030046</a>.</div>"
      ],
      "text/plain": [
       "<IPython.core.display.HTML object>"
      ]
     },
     "metadata": {},
     "output_type": "display_data"
    },
    {
     "data": {
      "text/html": [
       "<div style=\"font-family: Times New Roman; font-size: 18px; padding-bottom:10px\"><b>Document 7:</b> 40284 (8.50) -- Zhenyu Fan et al. Clinical Features of COVID-19 Related Liver Damage. <a href=\"https://doi.org/10.1101/2020.02.26.20026971\">10.1101/2020.02.26.20026971</a>.Full text available.</div>"
      ],
      "text/plain": [
       "<IPython.core.display.HTML object>"
      ]
     },
     "metadata": {},
     "output_type": "display_data"
    },
    {
     "data": {
      "text/html": [
       "<div style=\"font-family: Times New Roman; font-size: 18px; padding-bottom:10px\"><b>Document 8:</b> 42253 (8.46) -- Rodgers R Ayebare et al. Adoption of COVID-19 triage strategies for low-income settings. <a href=\"https://doi.org/10.1016/S2213-2600(20)30114-4\">10.1016/S2213-2600(20)30114-4</a>.Full text available.</div>"
      ],
      "text/plain": [
       "<IPython.core.display.HTML object>"
      ]
     },
     "metadata": {},
     "output_type": "display_data"
    },
    {
     "data": {
      "text/html": [
       "<div style=\"font-family: Times New Roman; font-size: 18px; padding-bottom:10px\"><b>Document 9:</b> 17209 (8.43) -- Hien Lau et al. Internationally lost COVID-19 cases. <a href=\"https://doi.org/10.1016/j.jmii.2020.03.013\">10.1016/j.jmii.2020.03.013</a>.Full text available.</div>"
      ],
      "text/plain": [
       "<IPython.core.display.HTML object>"
      ]
     },
     "metadata": {},
     "output_type": "display_data"
    },
    {
     "data": {
      "text/html": [
       "<div style=\"font-family: Times New Roman; font-size: 18px; padding-bottom:10px\"><b>Document 10:</b> 42511 (8.42) -- Fei Zhou et al. Clinical course and risk factors for mortality of adult inpatients with COVID-19 in Wuhan, China: a retrospective cohort study. <a href=\"https://doi.org/10.1016/S0140-6736(20)30566-3\">10.1016/S0140-6736(20)30566-3</a>.Full text available.</div>"
      ],
      "text/plain": [
       "<IPython.core.display.HTML object>"
      ]
     },
     "metadata": {},
     "output_type": "display_data"
    }
   ],
   "source": [
    "from pyserini.search import pysearch\n",
    "\n",
    "searcher = pysearch.SimpleSearcher(COVID_INDEX)\n",
    "query = ('these differences reside in the molecular structure of spike proteins and some other factors. Which receptor combination(s) will cause maximum harm')\n",
    "hits = show_query_results(query, searcher, top_k=10)"
   ]
  },
  {
   "cell_type": "markdown",
   "metadata": {
    "colab_type": "text",
    "id": "iiXaE-TDH7uc"
   },
   "source": [
    "From the hits array, use `.lucene_document` to access the underlying indexed Lucene `Document`, and from there, call `.get(field)` to fetch specific fields, like \"title\", \"doc\", etc.\n",
    "The complete list of available fields is [here](https://github.com/castorini/anserini/blob/master/src/main/java/io/anserini/index/generator/CovidGenerator.java#L46)."
   ]
  },
  {
   "cell_type": "markdown",
   "metadata": {
    "colab_type": "text",
    "id": "EBct_zb8Lyvp"
   },
   "source": [
    "For hit #1, we don't have the full text, but we can access available information via `.raw`."
   ]
  },
  {
   "cell_type": "code",
   "execution_count": 116,
   "metadata": {
    "colab": {
     "base_uri": "https://localhost:8080/",
     "height": 326
    },
    "colab_type": "code",
    "id": "WAYzpshzL7St",
    "outputId": "02af2348-4b71-4bed-d2bc-47d30640f5b1"
   },
   "outputs": [],
   "source": [
    "hit1_json = json.loads(hits[0].raw)\n",
    "# print(json.dumps(hit1_json, indent=4))"
   ]
  },
  {
   "cell_type": "markdown",
   "metadata": {
    "colab_type": "text",
    "id": "xw6EjwPgPB_b"
   },
   "source": [
    "For hit #7, we have the full text, which we can also fetch via `.raw`: As an example, let's look at to which section the second paragraph belongs."
   ]
  },
  {
   "cell_type": "code",
   "execution_count": 117,
   "metadata": {
    "colab": {
     "base_uri": "https://localhost:8080/",
     "height": 34
    },
    "colab_type": "code",
    "id": "lGLZhQgANy3I",
    "outputId": "dd1ec265-eda6-41b1-905f-2cabc96cfa95"
   },
   "outputs": [],
   "source": [
    "hit7_json = json.loads(hits[6].raw)\n",
    "# print(hit7_json['body_text'][1]['section'])"
   ]
  },
  {
   "cell_type": "markdown",
   "metadata": {
    "colab_type": "text",
    "id": "7Hbca-fTUDC-"
   },
   "source": [
    "Let's extract contextualized vectors of queries and abstracts from SciBERT for highlighting relevant paragraphs."
   ]
  },
  {
   "cell_type": "markdown",
   "metadata": {
    "colab_type": "text",
    "id": "AWUg03EjXF-1"
   },
   "source": [
    "First, extract the contextualized vectors of the query above:\n",
    "\n",
    "$$q_1, \\ldots, q_T = \\text{SciBERT}(\\text{query})$$"
   ]
  },
  {
   "cell_type": "code",
   "execution_count": 118,
   "metadata": {
    "colab": {},
    "colab_type": "code",
    "id": "hWmb-SWKTcu1"
   },
   "outputs": [],
   "source": [
    "def extract_scibert(text, tokenizer, model):\n",
    "    text_ids = torch.tensor([tokenizer.encode(text, add_special_tokens=True)])\n",
    "    text_words = tokenizer.convert_ids_to_tokens(text_ids[0])[1:-1]\n",
    "\n",
    "    n_chunks = int(numpy.ceil(float(text_ids.size(1))/512))\n",
    "    states = []\n",
    "    \n",
    "    for ci in range(n_chunks):\n",
    "        text_ids_ = text_ids[0, 1+ci*512:1+(ci+1)*512]            \n",
    "        torch.cat([text_ids[0, 0].unsqueeze(0), text_ids_])\n",
    "        if text_ids[0, -1] != text_ids[0, -1]:\n",
    "            torch.cat([text_ids, text_ids[0,-1].unsqueeze(0)])\n",
    "        \n",
    "        with torch.no_grad():\n",
    "            state = model(text_ids_.unsqueeze(0))[0]\n",
    "            state = state[:, 1:-1, :]\n",
    "        states.append(state)\n",
    "\n",
    "    state = torch.cat(states, axis=1)\n",
    "    return text_ids, text_words, state[0]"
   ]
  },
  {
   "cell_type": "code",
   "execution_count": 119,
   "metadata": {
    "colab": {},
    "colab_type": "code",
    "id": "e9gFCKohUXNP"
   },
   "outputs": [],
   "source": [
    "query_ids, query_words, query_state = extract_scibert(query, tokenizer, model)"
   ]
  },
  {
   "cell_type": "markdown",
   "metadata": {
    "colab_type": "text",
    "id": "IcAVwQdCXE_P"
   },
   "source": [
    "Second, let's extract contextualized vectors of all the paragraphs from the hit #7:\n",
    "\n",
    "$$p_1^k, \\ldots, p_{T_k}^k = \\text{SciBERT}(\\text{paragraph}^k)$$"
   ]
  },
  {
   "cell_type": "code",
   "execution_count": 120,
   "metadata": {
    "colab": {
     "base_uri": "https://localhost:8080/",
     "height": 34
    },
    "colab_type": "code",
    "id": "d-NG7C1CUbDg",
    "outputId": "9d5db119-9a68-4de0-9ad0-8448ec93768f"
   },
   "outputs": [
    {
     "name": "stderr",
     "output_type": "stream",
     "text": [
      "100%|██████████| 39/39 [00:09<00:00,  4.21it/s]\n"
     ]
    }
   ],
   "source": [
    "ii = 6\n",
    "doc_json = json.loads(hits[ii].raw)\n",
    "\n",
    "paragraph_states = []\n",
    "for par in tqdm(doc_json['body_text']):\n",
    "    state = extract_scibert(par['text'], tokenizer, model)\n",
    "    paragraph_states.append(state)"
   ]
  },
  {
   "cell_type": "markdown",
   "metadata": {
    "colab_type": "text",
    "id": "p_bUm3TOXWdY"
   },
   "source": [
    "We then compute the cosine similarity matrix between the query and each paragraph:\n",
    "\n",
    "$$A^k = [a^k_{ij}] \\in \\mathbb{R}^{|\\text{query}| \\times |\\text{paragraph}^k|},$$\n",
    "\n",
    "where\n",
    "\n",
    "$$a^k_{ij} = \\frac{q_i^\\top p_j^k}{\\| q_i \\| \\| p_j^k \\|}$$\n"
   ]
  },
  {
   "cell_type": "code",
   "execution_count": 121,
   "metadata": {
    "colab": {},
    "colab_type": "code",
    "id": "m6oZIW3OUbLv"
   },
   "outputs": [],
   "source": [
    "def cross_match(state1, state2):\n",
    "    state1 = state1 / torch.sqrt((state1 ** 2).sum(1, keepdims=True))\n",
    "    state2 = state2 / torch.sqrt((state2 ** 2).sum(1, keepdims=True))\n",
    "    sim = (state1.unsqueeze(1) * state2.unsqueeze(0)).sum(-1)\n",
    "    return sim"
   ]
  },
  {
   "cell_type": "code",
   "execution_count": 122,
   "metadata": {
    "colab": {
     "base_uri": "https://localhost:8080/",
     "height": 34
    },
    "colab_type": "code",
    "id": "MK8Na3sGUbSG",
    "outputId": "b4cee510-a39d-4a44-f207-529a3f611673"
   },
   "outputs": [
    {
     "name": "stderr",
     "output_type": "stream",
     "text": [
      "39it [00:00, 374.38it/s]\n"
     ]
    }
   ],
   "source": [
    "sim_matrices = []\n",
    "for pid, par in tqdm(enumerate(doc_json['body_text'])):\n",
    "    sim_score = cross_match(query_state, paragraph_states[pid][-1])\n",
    "    sim_matrices.append(sim_score)"
   ]
  },
  {
   "cell_type": "markdown",
   "metadata": {
    "colab_type": "text",
    "id": "oRKhDGzdXYr4"
   },
   "source": [
    "Let's retrieve the most relevant paragraphs first, where define the top-$M$ most relevant paragraphs as \n",
    "\n",
    "$$\\arg\\text{top-$M$}_{k=1}^K \\max_{i=1,\\ldots,|\\text{query}|} \\max_{j=1,\\ldots, |\\text{paragraph}^k|} A_{ij}^k$$\n",
    "\n",
    "that is, a paragraph with the highly matched words to the query words is considered relevant."
   ]
  },
  {
   "cell_type": "code",
   "execution_count": 123,
   "metadata": {
    "colab": {},
    "colab_type": "code",
    "id": "-3hJ1dAAUSWQ"
   },
   "outputs": [],
   "source": [
    "paragraph_relevance = [torch.max(sim).item() for sim in sim_matrices]\n",
    "\n",
    "# Select the index of top 5 paragraphs with highest relevance\n",
    "rel_index = numpy.argsort(paragraph_relevance)[-5:][::-1]"
   ]
  },
  {
   "cell_type": "code",
   "execution_count": 124,
   "metadata": {
    "colab": {
     "base_uri": "https://localhost:8080/",
     "height": 537
    },
    "colab_type": "code",
    "id": "bQhkuCc1Xp8s",
    "outputId": "43f485ee-2e33-433a-ed71-e1c52fa715f6"
   },
   "outputs": [
    {
     "data": {
      "text/html": [
       "<br/><div style=\"font-family: Times New Roman; font-size: 20px;padding-bottom:12px\"><b>Query</b>: these differences reside in the molecular structure of spike proteins and some other factors. Which receptor combination(s) will cause maximum harm</div>"
      ],
      "text/plain": [
       "<IPython.core.display.HTML object>"
      ]
     },
     "metadata": {},
     "output_type": "display_data"
    },
    {
     "data": {
      "text/html": [
       "<div style=\"font-family: Times New Roman; font-size: 18px; padding-bottom:10px\"><b>Document 6:</b> 40284 (8.50) -- Zhenyu Fan et al. Clinical Features of COVID-19 Related Liver Damage. <a href=\"https://doi.org/10.1101/2020.02.26.20026971\">10.1101/2020.02.26.20026971</a>.Full text available.</div>"
      ],
      "text/plain": [
       "<IPython.core.display.HTML object>"
      ]
     },
     "metadata": {},
     "output_type": "display_data"
    },
    {
     "data": {
      "text/html": [
       "<div style=\"font-family: Times New Roman; font-size: 18px; padding-bottom:10px; margin-left: 15px\"><b>Introduction</b> -- In this study , we retrospectively investigated the liver function change in SARS - CoV - 2 - infected patients from a single center study in Shanghai , China , and compared the clinical features , medications and length of stay of COVID - 19 patients with / without liver damage . The purpose of this study is to clarify the clinical features of COVID - 19 - related liver damage , evaluate the association between current medications and liver damage , and therefore provide a reference for clinical treatment of patients with COVID - 19 . </div>"
      ],
      "text/plain": [
       "<IPython.core.display.HTML object>"
      ]
     },
     "metadata": {},
     "output_type": "display_data"
    },
    {
     "data": {
      "text/html": [
       "<div style=\"font-family: Times New Roman; font-size: 18px; padding-bottom:10px; margin-left: 15px\"><b>Therapeutic strategies</b> -- All patients rested in bed and received nutritional support . The basic principle of treatment is symptomatic treatment to maintain the balance of water and electrolyte , stable internal environment . Monitor vital signs and finger oxygen saturation , and give effective oxygen therapy in time . Antiviral therapy can be tried with interferon , lopinavir / litonavir , abidol and dnrunavir . Antibiotics can be used if necessary . </div>"
      ],
      "text/plain": [
       "<IPython.core.display.HTML object>"
      ]
     },
     "metadata": {},
     "output_type": "display_data"
    },
    {
     "data": {
      "text/html": [
       "<div style=\"font-family: Times New Roman; font-size: 18px; padding-bottom:10px; margin-left: 15px\"><b>The analysis for medications in COVID-19 patients after admission</b> -- We observed that 41 patients with normal liver function had liver injury around 7 ( ±3 ) days after admission , with a probability of 56 . 16 % . During the stay in hospitalization , the patients received treatment with antibiotics ( Levofloxacin , Meropenem , Moxifloxacin , Cephalosporin ) , interferon and antiviral drugs ( Arbidol , Lopinavir / ritonavir , Dnrunavir ) . There was no statistical difference in hospital treatment between two groups in terms of antibiotics and interferon used in clinical practice . However , we found that there are more patients with abnormal liver function ( 56 . 1 % ) received treatment with lopinavir / ritonavir compared with those with normal liver function ( 25 % ) ( p = 0 . 009 ) ( Table 5 ) . </div>"
      ],
      "text/plain": [
       "<IPython.core.display.HTML object>"
      ]
     },
     "metadata": {},
     "output_type": "display_data"
    },
    {
     "data": {
      "text/html": [
       "<div style=\"font-family: Times New Roman; font-size: 18px; padding-bottom:10px; margin-left: 15px\"><b>(which was not peer-reviewed)</b> -- However , there are also deficiencies in our research . This study was retrospective , and some cases had incomplete documentation for the history of present illness . Moreover , all data were collected from a single center at a certain timepoint . So the sample size is relatively limited . Furthermore , the direct evidence of abnormal liver function caused by SARS - CoV - 2 has not yet been verified . Further studies are needed to corroborate the pathogenic mechanism . </div>"
      ],
      "text/plain": [
       "<IPython.core.display.HTML object>"
      ]
     },
     "metadata": {},
     "output_type": "display_data"
    },
    {
     "data": {
      "text/html": [
       "<div style=\"font-family: Times New Roman; font-size: 18px; padding-bottom:10px; margin-left: 15px\"><b>(which was not peer-reviewed)</b> -- The copyright holder for this preprint . https : / / doi . org / 10 . 1101 / 2020 . 02 . 26 . 20026971 doi : medRxiv preprint liver injury and the relationship between clinical medication and liver damage in SARS - CoV - 2 - infected patients . SARS - CoV - 2 may cause the liver function damage , and the emerging liver injury after admission has some connection with the application of lopinavir / ritonavir and the extend length of hospital stay . The finding is expected to provide some references for the clinical treatment of the current epidemic . . CC - BY - NC - ND 4 . 0 International license It is made available under a is the author / funder , who has granted medRxiv a license to display the preprint in perpetuity . . CC - BY - NC - ND 4 . 0 International license It is made available under a is the author / funder , who has granted medRxiv a license to display the preprint in perpetuity . </div>"
      ],
      "text/plain": [
       "<IPython.core.display.HTML object>"
      ]
     },
     "metadata": {},
     "output_type": "display_data"
    }
   ],
   "source": [
    "def show_sections(section, text):\n",
    "    \"\"\"HTML print format for document subsections\"\"\"\n",
    "    return HTML('<div style=\"font-family: Times New Roman; font-size: 18px; padding-bottom:10px; margin-left: 15px\">' + \n",
    "        f'<b>{section}</b> -- {text.replace(\" ##\",\"\")} </div>')\n",
    "\n",
    "display(show_query(query))\n",
    "display(show_document(ii, hits[ii]))\n",
    "for ri in numpy.sort(rel_index):\n",
    "    display(show_sections(doc_json[\"body_text\"][ri]['section'], \" \".join(paragraph_states[ri][1])))"
   ]
  },
  {
   "cell_type": "markdown",
   "metadata": {
    "colab_type": "text",
    "id": "d3H0XQ8IZfAN"
   },
   "source": [
    "We want to look at more details by highlighting relevant phrases in each paragraph, where we define relevant phrases for each paragraph as\n",
    "\n",
    "$$\\arg\\text{top-$M$}_{j=1,\\ldots, |\\text{paragraph}^k|} \\max_{i=1,\\ldots,|\\text{query}|} A_{ij}^k$$\n",
    "\n",
    "that is, any word that had a high similarity to each of the query words is considered relevant. given these words, we highlight a window of 10 surrounding each of them."
   ]
  },
  {
   "cell_type": "code",
   "execution_count": 125,
   "metadata": {},
   "outputs": [],
   "source": [
    "def highlight_paragraph(ptext, rel_words, max_win=10):\n",
    "    para = \"\"\n",
    "    prev_idx = 0\n",
    "    for jj in rel_words:\n",
    "        \n",
    "        if prev_idx > jj:\n",
    "            continue\n",
    "        \n",
    "        found_start = False\n",
    "        for kk in range(jj, prev_idx-1, -1):\n",
    "            if ptext[kk] == \".\" and (ptext[kk+1][0].isupper() or ptext[kk+1][0] == '['):\n",
    "                sent_start = kk\n",
    "                found_start = True\n",
    "                break\n",
    "        if not found_start:\n",
    "            sent_start = prev_idx-1\n",
    "            \n",
    "        found_end = False\n",
    "        for kk in range(jj, len(ptext)-1):\n",
    "            if ptext[kk] == \".\" and (ptext[kk+1][0].isupper() or ptext[kk+1][0] == '['):\n",
    "                sent_end = kk\n",
    "                found_end = True\n",
    "                break\n",
    "                \n",
    "        if not found_end:\n",
    "            if kk >= len(ptext) - 2:\n",
    "                sent_end = len(ptext)\n",
    "            else:\n",
    "                sent_end = jj\n",
    "        \n",
    "        para = para + \" \"\n",
    "        para = para + \" \".join(ptext[prev_idx:sent_start+1])\n",
    "        para = para + \" <font color='blue'>\"\n",
    "        para = para + \" \".join(ptext[sent_start+1:sent_end])\n",
    "        para = para + \"</font> \"\n",
    "        prev_idx = sent_end\n",
    "        \n",
    "    if prev_idx < len(ptext):\n",
    "        para = para + \" \".join(ptext[prev_idx:])\n",
    "\n",
    "    return para"
   ]
  },
  {
   "cell_type": "code",
   "execution_count": 126,
   "metadata": {
    "colab": {
     "base_uri": "https://localhost:8080/",
     "height": 647
    },
    "colab_type": "code",
    "id": "ZMxkQ0_PZiOQ",
    "outputId": "784d6f4d-6889-4b08-de67-fb089becd6f8"
   },
   "outputs": [
    {
     "data": {
      "text/html": [
       "<br/><div style=\"font-family: Times New Roman; font-size: 20px;padding-bottom:12px\"><b>Query</b>: these differences reside in the molecular structure of spike proteins and some other factors. Which receptor combination(s) will cause maximum harm</div>"
      ],
      "text/plain": [
       "<IPython.core.display.HTML object>"
      ]
     },
     "metadata": {},
     "output_type": "display_data"
    },
    {
     "data": {
      "text/html": [
       "<div style=\"font-family: Times New Roman; font-size: 18px; padding-bottom:10px\"><b>Document 6:</b> 40284 (8.50) -- Zhenyu Fan et al. Clinical Features of COVID-19 Related Liver Damage. <a href=\"https://doi.org/10.1101/2020.02.26.20026971\">10.1101/2020.02.26.20026971</a>.Full text available.</div>"
      ],
      "text/plain": [
       "<IPython.core.display.HTML object>"
      ]
     },
     "metadata": {},
     "output_type": "display_data"
    },
    {
     "data": {
      "text/html": [
       "<div style=\"font-family: Times New Roman; font-size: 18px; padding-bottom:10px; margin-left: 15px\"><b>Introduction</b> --   <font color='blue'>In this study , we retrospectively investigated the liver function change in SARS - CoV - 2 - infected patients from a single center study in Shanghai , China , and compared the clinical features , medications and length of stay of COVID - 19 patients with / without liver damage</font> . The purpose of this study is to clarify the clinical features of COVID - 19 - related liver damage , evaluate the association between current medications and liver damage , and therefore provide a reference for clinical treatment of patients with COVID - 19 . </div>"
      ],
      "text/plain": [
       "<IPython.core.display.HTML object>"
      ]
     },
     "metadata": {},
     "output_type": "display_data"
    },
    {
     "data": {
      "text/html": [
       "<div style=\"font-family: Times New Roman; font-size: 18px; padding-bottom:10px; margin-left: 15px\"><b>Therapeutic strategies</b> --   <font color='blue'>All patients rested in bed and received nutritional support</font>  . The basic principle of treatment is symptomatic treatment to maintain the balance of water and electrolyte , stable internal environment . Monitor vital signs and finger oxygen saturation , and give effective oxygen therapy in time . <font color='blue'>Antiviral therapy can be tried with interferon , lopinavir / litonavir , abidol and dnrunavir</font> . Antibiotics can be used if necessary . </div>"
      ],
      "text/plain": [
       "<IPython.core.display.HTML object>"
      ]
     },
     "metadata": {},
     "output_type": "display_data"
    },
    {
     "data": {
      "text/html": [
       "<div style=\"font-family: Times New Roman; font-size: 18px; padding-bottom:10px; margin-left: 15px\"><b>The analysis for medications in COVID-19 patients after admission</b> --  We observed that 41 patients with normal liver function had liver injury around 7 ( ±3 ) days after admission , with a probability of 56 . 16 % . <font color='blue'>During the stay in hospitalization , the patients received treatment with antibiotics ( Levofloxacin , Meropenem , Moxifloxacin , Cephalosporin ) , interferon and antiviral drugs ( Arbidol , Lopinavir / ritonavir , Dnrunavir )</font>  . <font color='blue'>There was no statistical difference in hospital treatment between two groups in terms of antibiotics and interferon used in clinical practice</font> . However , we found that there are more patients with abnormal liver function ( 56 . 1 % ) received treatment with lopinavir / ritonavir compared with those with normal liver function ( 25 % ) ( p = 0 . 009 ) ( Table 5 ) . </div>"
      ],
      "text/plain": [
       "<IPython.core.display.HTML object>"
      ]
     },
     "metadata": {},
     "output_type": "display_data"
    },
    {
     "data": {
      "text/html": [
       "<div style=\"font-family: Times New Roman; font-size: 18px; padding-bottom:10px; margin-left: 15px\"><b>(which was not peer-reviewed)</b> --   <font color='blue'>However , there are also deficiencies in our research</font>  . This study was retrospective , and some cases had incomplete documentation for the history of present illness . Moreover , all data were collected from a single center at a certain timepoint . So the sample size is relatively limited . <font color='blue'>Furthermore , the direct evidence of abnormal liver function caused by SARS - CoV - 2 has not yet been verified</font> . Further studies are needed to corroborate the pathogenic mechanism . </div>"
      ],
      "text/plain": [
       "<IPython.core.display.HTML object>"
      ]
     },
     "metadata": {},
     "output_type": "display_data"
    },
    {
     "data": {
      "text/html": [
       "<div style=\"font-family: Times New Roman; font-size: 18px; padding-bottom:10px; margin-left: 15px\"><b>(which was not peer-reviewed)</b> --  The copyright holder for this preprint . https : / / doi . org / 10 . 1101 / 2020 . 02 . 26 . 20026971 doi : medRxiv preprint liver injury and the relationship between clinical medication and liver damage in SARS - CoV - 2 - infected patients . <font color='blue'>SARS - CoV - 2 may cause the liver function damage , and the emerging liver injury after admission has some connection with the application of lopinavir / ritonavir and the extend length of hospital stay</font> . The finding is expected to provide some references for the clinical treatment of the current epidemic . . CC - BY - NC - ND 4 . 0 International license It is made available under a is the author / funder , who has granted medRxiv a license to display the preprint in perpetuity . . CC - BY - NC - ND 4 . 0 International license It is made available under a is the author / funder , who has granted medRxiv a license to display the preprint in perpetuity . </div>"
      ],
      "text/plain": [
       "<IPython.core.display.HTML object>"
      ]
     },
     "metadata": {},
     "output_type": "display_data"
    }
   ],
   "source": [
    "display(show_query(query))\n",
    "\n",
    "display(show_document(ii, hits[ii]))\n",
    "\n",
    "for ri in numpy.sort(rel_index):\n",
    "    sim = sim_matrices[ri].data.numpy()\n",
    "    \n",
    "    # Select the two highest scoring words in the paragraph\n",
    "    rel_words = numpy.sort(numpy.argsort(sim.max(0))[-2:][::-1])\n",
    "    p_tokens = paragraph_states[ri][1]\n",
    "    para = highlight_paragraph(p_tokens, rel_words)\n",
    "    display(show_sections(doc_json[\"body_text\"][ri]['section'], para))"
   ]
  },
  {
   "cell_type": "code",
   "execution_count": null,
   "metadata": {},
   "outputs": [],
   "source": []
  }
 ],
 "metadata": {
  "accelerator": "GPU",
  "colab": {
   "collapsed_sections": [],
   "include_colab_link": true,
   "name": "Copy of pyserini-covid19-default-demo.ipynb",
   "provenance": []
  },
  "kernelspec": {
   "display_name": "Python 3",
   "language": "python",
   "name": "python3"
  },
  "language_info": {
   "codemirror_mode": {
    "name": "ipython",
    "version": 3
   },
   "file_extension": ".py",
   "mimetype": "text/x-python",
   "name": "python",
   "nbconvert_exporter": "python",
   "pygments_lexer": "ipython3",
   "version": "3.6.9"
  },
  "widgets": {
   "application/vnd.jupyter.widget-state+json": {
    "02c8c6601fd74532908897dd6ba00642": {
     "model_module": "@jupyter-widgets/controls",
     "model_name": "HTMLModel",
     "state": {
      "_dom_classes": [],
      "_model_module": "@jupyter-widgets/controls",
      "_model_module_version": "1.5.0",
      "_model_name": "HTMLModel",
      "_view_count": null,
      "_view_module": "@jupyter-widgets/controls",
      "_view_module_version": "1.5.0",
      "_view_name": "HTMLView",
      "description": "",
      "description_tooltip": null,
      "layout": "IPY_MODEL_1ef1ac1d6c1e456caa6992593d367352",
      "placeholder": "​",
      "style": "IPY_MODEL_d8178af03865496db91a56d5d3a0cc57",
      "value": " 313/313 [00:01&lt;00:00, 187B/s]"
     }
    },
    "0ef3894860ad41328dd9540076c684bf": {
     "model_module": "@jupyter-widgets/controls",
     "model_name": "IntProgressModel",
     "state": {
      "_dom_classes": [],
      "_model_module": "@jupyter-widgets/controls",
      "_model_module_version": "1.5.0",
      "_model_name": "IntProgressModel",
      "_view_count": null,
      "_view_module": "@jupyter-widgets/controls",
      "_view_module_version": "1.5.0",
      "_view_name": "ProgressView",
      "bar_style": "success",
      "description": "Downloading: 100%",
      "description_tooltip": null,
      "layout": "IPY_MODEL_da75ddbf1b5f40b29c5b3b09a9c3d843",
      "max": 222296,
      "min": 0,
      "orientation": "horizontal",
      "style": "IPY_MODEL_31117b7d0d624f50acc63317961c1633",
      "value": 222296
     }
    },
    "1ef1ac1d6c1e456caa6992593d367352": {
     "model_module": "@jupyter-widgets/base",
     "model_name": "LayoutModel",
     "state": {
      "_model_module": "@jupyter-widgets/base",
      "_model_module_version": "1.2.0",
      "_model_name": "LayoutModel",
      "_view_count": null,
      "_view_module": "@jupyter-widgets/base",
      "_view_module_version": "1.2.0",
      "_view_name": "LayoutView",
      "align_content": null,
      "align_items": null,
      "align_self": null,
      "border": null,
      "bottom": null,
      "display": null,
      "flex": null,
      "flex_flow": null,
      "grid_area": null,
      "grid_auto_columns": null,
      "grid_auto_flow": null,
      "grid_auto_rows": null,
      "grid_column": null,
      "grid_gap": null,
      "grid_row": null,
      "grid_template_areas": null,
      "grid_template_columns": null,
      "grid_template_rows": null,
      "height": null,
      "justify_content": null,
      "justify_items": null,
      "left": null,
      "margin": null,
      "max_height": null,
      "max_width": null,
      "min_height": null,
      "min_width": null,
      "object_fit": null,
      "object_position": null,
      "order": null,
      "overflow": null,
      "overflow_x": null,
      "overflow_y": null,
      "padding": null,
      "right": null,
      "top": null,
      "visibility": null,
      "width": null
     }
    },
    "31117b7d0d624f50acc63317961c1633": {
     "model_module": "@jupyter-widgets/controls",
     "model_name": "ProgressStyleModel",
     "state": {
      "_model_module": "@jupyter-widgets/controls",
      "_model_module_version": "1.5.0",
      "_model_name": "ProgressStyleModel",
      "_view_count": null,
      "_view_module": "@jupyter-widgets/base",
      "_view_module_version": "1.2.0",
      "_view_name": "StyleView",
      "bar_color": null,
      "description_width": "initial"
     }
    },
    "3fc159bfdb1b46ea8b6d462f43c42980": {
     "model_module": "@jupyter-widgets/controls",
     "model_name": "ProgressStyleModel",
     "state": {
      "_model_module": "@jupyter-widgets/controls",
      "_model_module_version": "1.5.0",
      "_model_name": "ProgressStyleModel",
      "_view_count": null,
      "_view_module": "@jupyter-widgets/base",
      "_view_module_version": "1.2.0",
      "_view_name": "StyleView",
      "bar_color": null,
      "description_width": "initial"
     }
    },
    "4e91ba3985ab4306bf68027b01de8e49": {
     "model_module": "@jupyter-widgets/base",
     "model_name": "LayoutModel",
     "state": {
      "_model_module": "@jupyter-widgets/base",
      "_model_module_version": "1.2.0",
      "_model_name": "LayoutModel",
      "_view_count": null,
      "_view_module": "@jupyter-widgets/base",
      "_view_module_version": "1.2.0",
      "_view_name": "LayoutView",
      "align_content": null,
      "align_items": null,
      "align_self": null,
      "border": null,
      "bottom": null,
      "display": null,
      "flex": null,
      "flex_flow": null,
      "grid_area": null,
      "grid_auto_columns": null,
      "grid_auto_flow": null,
      "grid_auto_rows": null,
      "grid_column": null,
      "grid_gap": null,
      "grid_row": null,
      "grid_template_areas": null,
      "grid_template_columns": null,
      "grid_template_rows": null,
      "height": null,
      "justify_content": null,
      "justify_items": null,
      "left": null,
      "margin": null,
      "max_height": null,
      "max_width": null,
      "min_height": null,
      "min_width": null,
      "object_fit": null,
      "object_position": null,
      "order": null,
      "overflow": null,
      "overflow_x": null,
      "overflow_y": null,
      "padding": null,
      "right": null,
      "top": null,
      "visibility": null,
      "width": null
     }
    },
    "55f0585b2b9c4872b76215540fe2d010": {
     "model_module": "@jupyter-widgets/controls",
     "model_name": "ProgressStyleModel",
     "state": {
      "_model_module": "@jupyter-widgets/controls",
      "_model_module_version": "1.5.0",
      "_model_name": "ProgressStyleModel",
      "_view_count": null,
      "_view_module": "@jupyter-widgets/base",
      "_view_module_version": "1.2.0",
      "_view_name": "StyleView",
      "bar_color": null,
      "description_width": "initial"
     }
    },
    "5afdbf46d5c246e98d0fa4fd7a0bd52b": {
     "model_module": "@jupyter-widgets/base",
     "model_name": "LayoutModel",
     "state": {
      "_model_module": "@jupyter-widgets/base",
      "_model_module_version": "1.2.0",
      "_model_name": "LayoutModel",
      "_view_count": null,
      "_view_module": "@jupyter-widgets/base",
      "_view_module_version": "1.2.0",
      "_view_name": "LayoutView",
      "align_content": null,
      "align_items": null,
      "align_self": null,
      "border": null,
      "bottom": null,
      "display": null,
      "flex": null,
      "flex_flow": null,
      "grid_area": null,
      "grid_auto_columns": null,
      "grid_auto_flow": null,
      "grid_auto_rows": null,
      "grid_column": null,
      "grid_gap": null,
      "grid_row": null,
      "grid_template_areas": null,
      "grid_template_columns": null,
      "grid_template_rows": null,
      "height": null,
      "justify_content": null,
      "justify_items": null,
      "left": null,
      "margin": null,
      "max_height": null,
      "max_width": null,
      "min_height": null,
      "min_width": null,
      "object_fit": null,
      "object_position": null,
      "order": null,
      "overflow": null,
      "overflow_x": null,
      "overflow_y": null,
      "padding": null,
      "right": null,
      "top": null,
      "visibility": null,
      "width": null
     }
    },
    "5c40586819754261a141a6b88396e38b": {
     "model_module": "@jupyter-widgets/base",
     "model_name": "LayoutModel",
     "state": {
      "_model_module": "@jupyter-widgets/base",
      "_model_module_version": "1.2.0",
      "_model_name": "LayoutModel",
      "_view_count": null,
      "_view_module": "@jupyter-widgets/base",
      "_view_module_version": "1.2.0",
      "_view_name": "LayoutView",
      "align_content": null,
      "align_items": null,
      "align_self": null,
      "border": null,
      "bottom": null,
      "display": null,
      "flex": null,
      "flex_flow": null,
      "grid_area": null,
      "grid_auto_columns": null,
      "grid_auto_flow": null,
      "grid_auto_rows": null,
      "grid_column": null,
      "grid_gap": null,
      "grid_row": null,
      "grid_template_areas": null,
      "grid_template_columns": null,
      "grid_template_rows": null,
      "height": null,
      "justify_content": null,
      "justify_items": null,
      "left": null,
      "margin": null,
      "max_height": null,
      "max_width": null,
      "min_height": null,
      "min_width": null,
      "object_fit": null,
      "object_position": null,
      "order": null,
      "overflow": null,
      "overflow_x": null,
      "overflow_y": null,
      "padding": null,
      "right": null,
      "top": null,
      "visibility": null,
      "width": null
     }
    },
    "69b31d9a127846ce9a085c1718361919": {
     "model_module": "@jupyter-widgets/controls",
     "model_name": "HBoxModel",
     "state": {
      "_dom_classes": [],
      "_model_module": "@jupyter-widgets/controls",
      "_model_module_version": "1.5.0",
      "_model_name": "HBoxModel",
      "_view_count": null,
      "_view_module": "@jupyter-widgets/controls",
      "_view_module_version": "1.5.0",
      "_view_name": "HBoxView",
      "box_style": "",
      "children": [
       "IPY_MODEL_f672e067718a47e9bc1a741bbaa9dd36",
       "IPY_MODEL_02c8c6601fd74532908897dd6ba00642"
      ],
      "layout": "IPY_MODEL_ab609f410fa845ba86388ae0cdd8e308"
     }
    },
    "82b06cc5c5684ef5b6502eb99a6d32ec": {
     "model_module": "@jupyter-widgets/controls",
     "model_name": "IntProgressModel",
     "state": {
      "_dom_classes": [],
      "_model_module": "@jupyter-widgets/controls",
      "_model_module_version": "1.5.0",
      "_model_name": "IntProgressModel",
      "_view_count": null,
      "_view_module": "@jupyter-widgets/controls",
      "_view_module_version": "1.5.0",
      "_view_name": "ProgressView",
      "bar_style": "success",
      "description": "Downloading: 100%",
      "description_tooltip": null,
      "layout": "IPY_MODEL_890c6e99f177467481405dfe2a3fc339",
      "max": 442301670,
      "min": 0,
      "orientation": "horizontal",
      "style": "IPY_MODEL_55f0585b2b9c4872b76215540fe2d010",
      "value": 442301670
     }
    },
    "8655da061ea34a16800b111d6e20c69a": {
     "model_module": "@jupyter-widgets/base",
     "model_name": "LayoutModel",
     "state": {
      "_model_module": "@jupyter-widgets/base",
      "_model_module_version": "1.2.0",
      "_model_name": "LayoutModel",
      "_view_count": null,
      "_view_module": "@jupyter-widgets/base",
      "_view_module_version": "1.2.0",
      "_view_name": "LayoutView",
      "align_content": null,
      "align_items": null,
      "align_self": null,
      "border": null,
      "bottom": null,
      "display": null,
      "flex": null,
      "flex_flow": null,
      "grid_area": null,
      "grid_auto_columns": null,
      "grid_auto_flow": null,
      "grid_auto_rows": null,
      "grid_column": null,
      "grid_gap": null,
      "grid_row": null,
      "grid_template_areas": null,
      "grid_template_columns": null,
      "grid_template_rows": null,
      "height": null,
      "justify_content": null,
      "justify_items": null,
      "left": null,
      "margin": null,
      "max_height": null,
      "max_width": null,
      "min_height": null,
      "min_width": null,
      "object_fit": null,
      "object_position": null,
      "order": null,
      "overflow": null,
      "overflow_x": null,
      "overflow_y": null,
      "padding": null,
      "right": null,
      "top": null,
      "visibility": null,
      "width": null
     }
    },
    "890c6e99f177467481405dfe2a3fc339": {
     "model_module": "@jupyter-widgets/base",
     "model_name": "LayoutModel",
     "state": {
      "_model_module": "@jupyter-widgets/base",
      "_model_module_version": "1.2.0",
      "_model_name": "LayoutModel",
      "_view_count": null,
      "_view_module": "@jupyter-widgets/base",
      "_view_module_version": "1.2.0",
      "_view_name": "LayoutView",
      "align_content": null,
      "align_items": null,
      "align_self": null,
      "border": null,
      "bottom": null,
      "display": null,
      "flex": null,
      "flex_flow": null,
      "grid_area": null,
      "grid_auto_columns": null,
      "grid_auto_flow": null,
      "grid_auto_rows": null,
      "grid_column": null,
      "grid_gap": null,
      "grid_row": null,
      "grid_template_areas": null,
      "grid_template_columns": null,
      "grid_template_rows": null,
      "height": null,
      "justify_content": null,
      "justify_items": null,
      "left": null,
      "margin": null,
      "max_height": null,
      "max_width": null,
      "min_height": null,
      "min_width": null,
      "object_fit": null,
      "object_position": null,
      "order": null,
      "overflow": null,
      "overflow_x": null,
      "overflow_y": null,
      "padding": null,
      "right": null,
      "top": null,
      "visibility": null,
      "width": null
     }
    },
    "93d84aebb3c547a9b1398b975e08c60e": {
     "model_module": "@jupyter-widgets/controls",
     "model_name": "HTMLModel",
     "state": {
      "_dom_classes": [],
      "_model_module": "@jupyter-widgets/controls",
      "_model_module_version": "1.5.0",
      "_model_name": "HTMLModel",
      "_view_count": null,
      "_view_module": "@jupyter-widgets/controls",
      "_view_module_version": "1.5.0",
      "_view_name": "HTMLView",
      "description": "",
      "description_tooltip": null,
      "layout": "IPY_MODEL_4e91ba3985ab4306bf68027b01de8e49",
      "placeholder": "​",
      "style": "IPY_MODEL_94d6f73960f54bfba3897bdb3ff40b49",
      "value": " 442M/442M [00:12&lt;00:00, 35.1MB/s]"
     }
    },
    "94d6f73960f54bfba3897bdb3ff40b49": {
     "model_module": "@jupyter-widgets/controls",
     "model_name": "DescriptionStyleModel",
     "state": {
      "_model_module": "@jupyter-widgets/controls",
      "_model_module_version": "1.5.0",
      "_model_name": "DescriptionStyleModel",
      "_view_count": null,
      "_view_module": "@jupyter-widgets/base",
      "_view_module_version": "1.2.0",
      "_view_name": "StyleView",
      "description_width": ""
     }
    },
    "9e04d92a35cd4230a1f68332eeb3989c": {
     "model_module": "@jupyter-widgets/controls",
     "model_name": "HBoxModel",
     "state": {
      "_dom_classes": [],
      "_model_module": "@jupyter-widgets/controls",
      "_model_module_version": "1.5.0",
      "_model_name": "HBoxModel",
      "_view_count": null,
      "_view_module": "@jupyter-widgets/controls",
      "_view_module_version": "1.5.0",
      "_view_name": "HBoxView",
      "box_style": "",
      "children": [
       "IPY_MODEL_0ef3894860ad41328dd9540076c684bf",
       "IPY_MODEL_b3ea4f0305fe4066a2be697fdc3188d2"
      ],
      "layout": "IPY_MODEL_5c40586819754261a141a6b88396e38b"
     }
    },
    "a92e5c7910914adaa58f8f051f71f11b": {
     "model_module": "@jupyter-widgets/base",
     "model_name": "LayoutModel",
     "state": {
      "_model_module": "@jupyter-widgets/base",
      "_model_module_version": "1.2.0",
      "_model_name": "LayoutModel",
      "_view_count": null,
      "_view_module": "@jupyter-widgets/base",
      "_view_module_version": "1.2.0",
      "_view_name": "LayoutView",
      "align_content": null,
      "align_items": null,
      "align_self": null,
      "border": null,
      "bottom": null,
      "display": null,
      "flex": null,
      "flex_flow": null,
      "grid_area": null,
      "grid_auto_columns": null,
      "grid_auto_flow": null,
      "grid_auto_rows": null,
      "grid_column": null,
      "grid_gap": null,
      "grid_row": null,
      "grid_template_areas": null,
      "grid_template_columns": null,
      "grid_template_rows": null,
      "height": null,
      "justify_content": null,
      "justify_items": null,
      "left": null,
      "margin": null,
      "max_height": null,
      "max_width": null,
      "min_height": null,
      "min_width": null,
      "object_fit": null,
      "object_position": null,
      "order": null,
      "overflow": null,
      "overflow_x": null,
      "overflow_y": null,
      "padding": null,
      "right": null,
      "top": null,
      "visibility": null,
      "width": null
     }
    },
    "ab609f410fa845ba86388ae0cdd8e308": {
     "model_module": "@jupyter-widgets/base",
     "model_name": "LayoutModel",
     "state": {
      "_model_module": "@jupyter-widgets/base",
      "_model_module_version": "1.2.0",
      "_model_name": "LayoutModel",
      "_view_count": null,
      "_view_module": "@jupyter-widgets/base",
      "_view_module_version": "1.2.0",
      "_view_name": "LayoutView",
      "align_content": null,
      "align_items": null,
      "align_self": null,
      "border": null,
      "bottom": null,
      "display": null,
      "flex": null,
      "flex_flow": null,
      "grid_area": null,
      "grid_auto_columns": null,
      "grid_auto_flow": null,
      "grid_auto_rows": null,
      "grid_column": null,
      "grid_gap": null,
      "grid_row": null,
      "grid_template_areas": null,
      "grid_template_columns": null,
      "grid_template_rows": null,
      "height": null,
      "justify_content": null,
      "justify_items": null,
      "left": null,
      "margin": null,
      "max_height": null,
      "max_width": null,
      "min_height": null,
      "min_width": null,
      "object_fit": null,
      "object_position": null,
      "order": null,
      "overflow": null,
      "overflow_x": null,
      "overflow_y": null,
      "padding": null,
      "right": null,
      "top": null,
      "visibility": null,
      "width": null
     }
    },
    "b3ea4f0305fe4066a2be697fdc3188d2": {
     "model_module": "@jupyter-widgets/controls",
     "model_name": "HTMLModel",
     "state": {
      "_dom_classes": [],
      "_model_module": "@jupyter-widgets/controls",
      "_model_module_version": "1.5.0",
      "_model_name": "HTMLModel",
      "_view_count": null,
      "_view_module": "@jupyter-widgets/controls",
      "_view_module_version": "1.5.0",
      "_view_name": "HTMLView",
      "description": "",
      "description_tooltip": null,
      "layout": "IPY_MODEL_5afdbf46d5c246e98d0fa4fd7a0bd52b",
      "placeholder": "​",
      "style": "IPY_MODEL_e990c10c236f4b948ddf1ed248280bfe",
      "value": " 222k/222k [00:01&lt;00:00, 214kB/s]"
     }
    },
    "d8178af03865496db91a56d5d3a0cc57": {
     "model_module": "@jupyter-widgets/controls",
     "model_name": "DescriptionStyleModel",
     "state": {
      "_model_module": "@jupyter-widgets/controls",
      "_model_module_version": "1.5.0",
      "_model_name": "DescriptionStyleModel",
      "_view_count": null,
      "_view_module": "@jupyter-widgets/base",
      "_view_module_version": "1.2.0",
      "_view_name": "StyleView",
      "description_width": ""
     }
    },
    "da75ddbf1b5f40b29c5b3b09a9c3d843": {
     "model_module": "@jupyter-widgets/base",
     "model_name": "LayoutModel",
     "state": {
      "_model_module": "@jupyter-widgets/base",
      "_model_module_version": "1.2.0",
      "_model_name": "LayoutModel",
      "_view_count": null,
      "_view_module": "@jupyter-widgets/base",
      "_view_module_version": "1.2.0",
      "_view_name": "LayoutView",
      "align_content": null,
      "align_items": null,
      "align_self": null,
      "border": null,
      "bottom": null,
      "display": null,
      "flex": null,
      "flex_flow": null,
      "grid_area": null,
      "grid_auto_columns": null,
      "grid_auto_flow": null,
      "grid_auto_rows": null,
      "grid_column": null,
      "grid_gap": null,
      "grid_row": null,
      "grid_template_areas": null,
      "grid_template_columns": null,
      "grid_template_rows": null,
      "height": null,
      "justify_content": null,
      "justify_items": null,
      "left": null,
      "margin": null,
      "max_height": null,
      "max_width": null,
      "min_height": null,
      "min_width": null,
      "object_fit": null,
      "object_position": null,
      "order": null,
      "overflow": null,
      "overflow_x": null,
      "overflow_y": null,
      "padding": null,
      "right": null,
      "top": null,
      "visibility": null,
      "width": null
     }
    },
    "e990c10c236f4b948ddf1ed248280bfe": {
     "model_module": "@jupyter-widgets/controls",
     "model_name": "DescriptionStyleModel",
     "state": {
      "_model_module": "@jupyter-widgets/controls",
      "_model_module_version": "1.5.0",
      "_model_name": "DescriptionStyleModel",
      "_view_count": null,
      "_view_module": "@jupyter-widgets/base",
      "_view_module_version": "1.2.0",
      "_view_name": "StyleView",
      "description_width": ""
     }
    },
    "f22cde11a4d14e02b43c24316881dcae": {
     "model_module": "@jupyter-widgets/controls",
     "model_name": "HBoxModel",
     "state": {
      "_dom_classes": [],
      "_model_module": "@jupyter-widgets/controls",
      "_model_module_version": "1.5.0",
      "_model_name": "HBoxModel",
      "_view_count": null,
      "_view_module": "@jupyter-widgets/controls",
      "_view_module_version": "1.5.0",
      "_view_name": "HBoxView",
      "box_style": "",
      "children": [
       "IPY_MODEL_82b06cc5c5684ef5b6502eb99a6d32ec",
       "IPY_MODEL_93d84aebb3c547a9b1398b975e08c60e"
      ],
      "layout": "IPY_MODEL_8655da061ea34a16800b111d6e20c69a"
     }
    },
    "f672e067718a47e9bc1a741bbaa9dd36": {
     "model_module": "@jupyter-widgets/controls",
     "model_name": "IntProgressModel",
     "state": {
      "_dom_classes": [],
      "_model_module": "@jupyter-widgets/controls",
      "_model_module_version": "1.5.0",
      "_model_name": "IntProgressModel",
      "_view_count": null,
      "_view_module": "@jupyter-widgets/controls",
      "_view_module_version": "1.5.0",
      "_view_name": "ProgressView",
      "bar_style": "success",
      "description": "Downloading: 100%",
      "description_tooltip": null,
      "layout": "IPY_MODEL_a92e5c7910914adaa58f8f051f71f11b",
      "max": 313,
      "min": 0,
      "orientation": "horizontal",
      "style": "IPY_MODEL_3fc159bfdb1b46ea8b6d462f43c42980",
      "value": 313
     }
    }
   }
  }
 },
 "nbformat": 4,
 "nbformat_minor": 4
}
