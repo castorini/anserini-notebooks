{
  "nbformat": 4,
  "nbformat_minor": 0,
  "metadata": {
    "colab": {
      "name": "Pyserini+SciBERT on COVID-19 Demo",
      "provenance": [],
      "collapsed_sections": [],
      "include_colab_link": true
    },
    "kernelspec": {
      "name": "python3",
      "display_name": "Python 3"
    },
    "accelerator": "GPU"
  },
  "cells": [
    {
      "cell_type": "markdown",
      "metadata": {
        "id": "view-in-github",
        "colab_type": "text"
      },
      "source": [
        "<a href=\"https://colab.research.google.com/github/castorini/anserini-notebooks/blob/master/Pyserini%2BSciBERT_on_COVID_19_Demo.ipynb\" target=\"_parent\"><img src=\"https://colab.research.google.com/assets/colab-badge.svg\" alt=\"Open In Colab\"/></a>"
      ]
    },
    {
      "cell_type": "markdown",
      "metadata": {
        "id": "vUpmSFflwzR1",
        "colab_type": "text"
      },
      "source": [
        "# Pyserini Demo on COVID-19 Dataset (Title + Abstract Index) \n",
        "# with HuggingFace Transformers based visualization\n"
      ]
    },
    {
      "cell_type": "markdown",
      "metadata": {
        "id": "0RtnmBN6A-Oq",
        "colab_type": "text"
      },
      "source": [
        "This notebook provides a demo on how to get started in searching the [COVID-19 Open Research Dataset](https://pages.semanticscholar.org/coronavirus-research) (release of 2020/03/20) from AI2.\n",
        "\n",
        "> Indented block\n",
        "\n",
        "\n",
        "In this notebook, we'll be working with the title + abstract index. \n",
        "Specifically, we're not indexing the full text (that'll come later, soon!).\n"
      ]
    },
    {
      "cell_type": "code",
      "metadata": {
        "id": "q93fI77dY9HU",
        "colab_type": "code",
        "colab": {}
      },
      "source": [
        "from IPython.core.display import display, HTML"
      ],
      "execution_count": 0,
      "outputs": []
    },
    {
      "cell_type": "markdown",
      "metadata": {
        "id": "f2vNd7bpJlDZ",
        "colab_type": "text"
      },
      "source": [
        "First, install Python dependencies"
      ]
    },
    {
      "cell_type": "code",
      "metadata": {
        "id": "E_lt0-pXJia0",
        "colab_type": "code",
        "colab": {}
      },
      "source": [
        "%%capture\n",
        "!pip install pyserini==0.8.1.0\n",
        "!pip install transformers\n",
        "\n",
        "import json\n",
        "import os\n",
        "os.environ[\"JAVA_HOME\"] = \"/usr/lib/jvm/java-11-openjdk-amd64\""
      ],
      "execution_count": 0,
      "outputs": []
    },
    {
      "cell_type": "markdown",
      "metadata": {
        "id": "xbXmstbGypef",
        "colab_type": "text"
      },
      "source": [
        "Let's grab the pre-built index:"
      ]
    },
    {
      "cell_type": "code",
      "metadata": {
        "id": "JT_OJKftdqGP",
        "colab_type": "code",
        "colab": {}
      },
      "source": [
        "%%capture\n",
        "!wget https://www.dropbox.com/s/uvjwgy4re2myq5s/lucene-index-covid-2020-03-20.tar.gz\n",
        "!tar xvfz lucene-index-covid-2020-03-20.tar.gz"
      ],
      "execution_count": 0,
      "outputs": []
    },
    {
      "cell_type": "code",
      "metadata": {
        "id": "KVXWA6WS0aqJ",
        "colab_type": "code",
        "outputId": "c6ca7adb-b0e7-4834-ce33-28e61cb9e61b",
        "colab": {
          "base_uri": "https://localhost:8080/",
          "height": 34
        }
      },
      "source": [
        "!du -h lucene-index-covid-2020-03-20"
      ],
      "execution_count": 4,
      "outputs": [
        {
          "output_type": "stream",
          "text": [
            "1.3G\tlucene-index-covid-2020-03-20\n"
          ],
          "name": "stdout"
        }
      ]
    },
    {
      "cell_type": "markdown",
      "metadata": {
        "id": "e98LWXwXSxG1",
        "colab_type": "text"
      },
      "source": [
        "Let's load SciBERT (https://github.com/allenai/scibert) from HuggingFace Transformers"
      ]
    },
    {
      "cell_type": "code",
      "metadata": {
        "id": "UBlFYHejSr2H",
        "colab_type": "code",
        "colab": {}
      },
      "source": [
        "import torch\n",
        "import numpy"
      ],
      "execution_count": 0,
      "outputs": []
    },
    {
      "cell_type": "code",
      "metadata": {
        "id": "JE5ESlIFVxTz",
        "colab_type": "code",
        "colab": {}
      },
      "source": [
        "from tqdm import tqdm"
      ],
      "execution_count": 0,
      "outputs": []
    },
    {
      "cell_type": "code",
      "metadata": {
        "id": "E4DXP0LESvhi",
        "colab_type": "code",
        "colab": {
          "base_uri": "https://localhost:8080/",
          "height": 63
        },
        "outputId": "31bee04c-86d3-4e04-a560-823004c84376"
      },
      "source": [
        "from transformers import *\n",
        "\n",
        "tokenizer = AutoTokenizer.from_pretrained('allenai/scibert_scivocab_cased', do_lower_case=False)\n",
        "model = AutoModel.from_pretrained('allenai/scibert_scivocab_cased')"
      ],
      "execution_count": 7,
      "outputs": [
        {
          "output_type": "display_data",
          "data": {
            "text/html": [
              "<p style=\"color: red;\">\n",
              "The default version of TensorFlow in Colab will soon switch to TensorFlow 2.x.<br>\n",
              "We recommend you <a href=\"https://www.tensorflow.org/guide/migrate\" target=\"_blank\">upgrade</a> now \n",
              "or ensure your notebook will continue to use TensorFlow 1.x via the <code>%tensorflow_version 1.x</code> magic:\n",
              "<a href=\"https://colab.research.google.com/notebooks/tensorflow_version.ipynb\" target=\"_blank\">more info</a>.</p>\n"
            ],
            "text/plain": [
              "<IPython.core.display.HTML object>"
            ]
          },
          "metadata": {
            "tags": []
          }
        }
      ]
    },
    {
      "cell_type": "markdown",
      "metadata": {
        "id": "EwVSvHBz9RMM",
        "colab_type": "text"
      },
      "source": [
        "Sanity check of index size (should be 1.3G):"
      ]
    },
    {
      "cell_type": "markdown",
      "metadata": {
        "id": "NkD0kKxW9mHP",
        "colab_type": "text"
      },
      "source": [
        "You can use `pysearch` to search over an index. Here's the basic usage:"
      ]
    },
    {
      "cell_type": "code",
      "metadata": {
        "id": "fI2HRj48TTr3",
        "colab_type": "code",
        "colab": {}
      },
      "source": [
        "query = 'integration degradation synthesis host immune'"
      ],
      "execution_count": 0,
      "outputs": []
    },
    {
      "cell_type": "code",
      "metadata": {
        "id": "yFZlcqEX0t1f",
        "colab_type": "code",
        "outputId": "064c86e5-5030-4d2f-d19f-93a4a6867a4b",
        "colab": {
          "base_uri": "https://localhost:8080/",
          "height": 439
        }
      },
      "source": [
        "from pyserini.search import pysearch\n",
        "\n",
        "searcher = pysearch.SimpleSearcher('lucene-index-covid-2020-03-20/')\n",
        "hits = searcher.search(query)\n",
        "\n",
        "display(HTML('<div style=\"font-family: Times New Roman; font-size: 20px; padding-bottom:12px\"><b>Query</b>: '+query+'</div>'))\n",
        "\n",
        "# Prints the first 10 hits\n",
        "for i in range(0, 10):\n",
        "  display(HTML('<div style=\"font-family: Times New Roman; font-size: 18px; padding-bottom:10px\">' + \n",
        "               F'{i+1} {hits[i].docid} ({hits[i].score:1.2f}) -- ' +\n",
        "               F'{hits[i].lucene_document.get(\"authors\")} et al. ' +\n",
        "               F'{hits[i].lucene_document.get(\"title\")}. ' +\n",
        "               F'<a href=\"https://doi.org/{hits[i].lucene_document.get(\"doi\")}\">{hits[i].lucene_document.get(\"doi\")}</a>.'\n",
        "               + '</div>'))"
      ],
      "execution_count": 9,
      "outputs": [
        {
          "output_type": "display_data",
          "data": {
            "text/html": [
              "<div style=\"font-family: Times New Roman; font-size: 20px; padding-bottom:12px\"><b>Query</b>: integration degradation synthesis host immune</div>"
            ],
            "text/plain": [
              "<IPython.core.display.HTML object>"
            ]
          },
          "metadata": {
            "tags": []
          }
        },
        {
          "output_type": "display_data",
          "data": {
            "text/html": [
              "<div style=\"font-family: Times New Roman; font-size: 18px; padding-bottom:10px\">1 35473 (8.18) -- Krishna Narayanan et al. Severe Acute Respiratory Syndrome Coronavirus nsp1 Suppresses Host Gene Expression, Including That of Type I Interferon, in Infected Cells. <a href=\"https://doi.org/10.1128/JVI.02472-07\">10.1128/JVI.02472-07</a>.</div>"
            ],
            "text/plain": [
              "<IPython.core.display.HTML object>"
            ]
          },
          "metadata": {
            "tags": []
          }
        },
        {
          "output_type": "display_data",
          "data": {
            "text/html": [
              "<div style=\"font-family: Times New Roman; font-size: 18px; padding-bottom:10px\">2 36110 (8.10) -- Wataru Kamitani et al. Severe acute respiratory syndrome coronavirus nsp1 protein suppresses host gene expression by promoting host mRNA degradation. <a href=\"https://doi.org/10.1073/pnas.0603144103\">10.1073/pnas.0603144103</a>.</div>"
            ],
            "text/plain": [
              "<IPython.core.display.HTML object>"
            ]
          },
          "metadata": {
            "tags": []
          }
        },
        {
          "output_type": "display_data",
          "data": {
            "text/html": [
              "<div style=\"font-family: Times New Roman; font-size: 18px; padding-bottom:10px\">3 24257 (7.97) -- Sarah van Tol et al. The TRIMendous Role of TRIMs in Virus–Host Interactions. <a href=\"https://doi.org/10.3390/vaccines5030023\">10.3390/vaccines5030023</a>.</div>"
            ],
            "text/plain": [
              "<IPython.core.display.HTML object>"
            ]
          },
          "metadata": {
            "tags": []
          }
        },
        {
          "output_type": "display_data",
          "data": {
            "text/html": [
              "<div style=\"font-family: Times New Roman; font-size: 18px; padding-bottom:10px\">4 42237 (7.80) -- Denys A. Khaperskyy et al. Selective Degradation of Host RNA Polymerase II Transcripts by Influenza A Virus PA-X Host Shutoff Protein. <a href=\"https://doi.org/10.1371/journal.ppat.1005427\">10.1371/journal.ppat.1005427</a>.</div>"
            ],
            "text/plain": [
              "<IPython.core.display.HTML object>"
            ]
          },
          "metadata": {
            "tags": []
          }
        },
        {
          "output_type": "display_data",
          "data": {
            "text/html": [
              "<div style=\"font-family: Times New Roman; font-size: 18px; padding-bottom:10px\">5 39718 (7.79) -- D. E. Goodman et al. Enhanced replication of mouse adenovirus type 1 following virus-induced degradation of protein kinase R (PKR). <a href=\"https://doi.org/10.1101/584680\">10.1101/584680</a>.</div>"
            ],
            "text/plain": [
              "<IPython.core.display.HTML object>"
            ]
          },
          "metadata": {
            "tags": []
          }
        },
        {
          "output_type": "display_data",
          "data": {
            "text/html": [
              "<div style=\"font-family: Times New Roman; font-size: 18px; padding-bottom:10px\">6 7087 (7.78) -- Joana Loureiro et al. Antigen Presentation and the Ubiquitin‐Proteasome System in Host–Pathogen Interactions. <a href=\"https://doi.org/10.1016/S0065-2776(06)92006-9\">10.1016/S0065-2776(06)92006-9</a>.</div>"
            ],
            "text/plain": [
              "<IPython.core.display.HTML object>"
            ]
          },
          "metadata": {
            "tags": []
          }
        },
        {
          "output_type": "display_data",
          "data": {
            "text/html": [
              "<div style=\"font-family: Times New Roman; font-size: 18px; padding-bottom:10px\">7 31913 (7.73) -- Song Wang et al. Influenza A Virus-Induced Degradation of Eukaryotic Translation Initiation Factor 4B Contributes to Viral Replication by Suppressing IFITM3 Protein Expression. <a href=\"https://doi.org/10.1128/JVI.00126-14\">10.1128/JVI.00126-14</a>.</div>"
            ],
            "text/plain": [
              "<IPython.core.display.HTML object>"
            ]
          },
          "metadata": {
            "tags": []
          }
        },
        {
          "output_type": "display_data",
          "data": {
            "text/html": [
              "<div style=\"font-family: Times New Roman; font-size: 18px; padding-bottom:10px\">8 20953 (7.46) -- Jennifer A. Head et al. Functional Analysis of Rift Valley Fever Virus NSs Encoding a Partial Truncation. <a href=\"https://doi.org/10.1371/journal.pone.0045730\">10.1371/journal.pone.0045730</a>.</div>"
            ],
            "text/plain": [
              "<IPython.core.display.HTML object>"
            ]
          },
          "metadata": {
            "tags": []
          }
        },
        {
          "output_type": "display_data",
          "data": {
            "text/html": [
              "<div style=\"font-family: Times New Roman; font-size: 18px; padding-bottom:10px\">9 31448 (7.41) -- Tsuyoshi Hayashi et al. Influenza A Virus Protein PA-X Contributes to Viral Growth and Suppression of the Host Antiviral and Immune Responses. <a href=\"https://doi.org/10.1128/JVI.00319-15\">10.1128/JVI.00319-15</a>.</div>"
            ],
            "text/plain": [
              "<IPython.core.display.HTML object>"
            ]
          },
          "metadata": {
            "tags": []
          }
        },
        {
          "output_type": "display_data",
          "data": {
            "text/html": [
              "<div style=\"font-family: Times New Roman; font-size: 18px; padding-bottom:10px\">10 30709 (7.29) -- Joeri Kint et al. Infectious Bronchitis Coronavirus Limits Interferon Production by Inducing a Host Shutoff That Requires Accessory Protein 5b. <a href=\"https://doi.org/10.1128/JVI.00627-16\">10.1128/JVI.00627-16</a>.</div>"
            ],
            "text/plain": [
              "<IPython.core.display.HTML object>"
            ]
          },
          "metadata": {
            "tags": []
          }
        }
      ]
    },
    {
      "cell_type": "markdown",
      "metadata": {
        "id": "iiXaE-TDH7uc",
        "colab_type": "text"
      },
      "source": [
        "From the hits array, use `.lucene_document` to access the underlying indexed Lucene `Document`, and from there, call `.get(field)` to fetch specific fields, like \"title\", \"doc\", etc.\n",
        "The complete list of available fields is [here](https://github.com/castorini/anserini/blob/master/src/main/java/io/anserini/index/generator/CovidGenerator.java#L46)."
      ]
    },
    {
      "cell_type": "markdown",
      "metadata": {
        "id": "EBct_zb8Lyvp",
        "colab_type": "text"
      },
      "source": [
        "For hit #1, we don't have the full text, but we can access available information via `.raw`."
      ]
    },
    {
      "cell_type": "code",
      "metadata": {
        "id": "WAYzpshzL7St",
        "colab_type": "code",
        "outputId": "e993b371-aae5-4a54-a024-097acc83fbe1",
        "colab": {
          "base_uri": "https://localhost:8080/",
          "height": 326
        }
      },
      "source": [
        "hit1_json = json.loads(hits[0].raw)\n",
        "print(json.dumps(hit1_json, indent=4))"
      ],
      "execution_count": 10,
      "outputs": [
        {
          "output_type": "stream",
          "text": [
            "{\n",
            "    \"abstract\": \"The severe acute respiratory syndrome coronavirus (SARS-CoV) nsp1 protein has unique biological functions that have not been described in the viral proteins of any RNA viruses; expressed SARS-CoV nsp1 protein has been found to suppress host gene expression by promoting host mRNA degradation and inhibiting translation. We generated an nsp1 mutant (nsp1-mt) that neither promoted host mRNA degradation nor suppressed host protein synthesis in expressing cells. Both a SARS-CoV mutant virus, encoding the nsp1-mt protein (SARS-CoV-mt), and a wild-type virus (SARS-CoV-WT) replicated efficiently and exhibited similar one-step growth kinetics in susceptible cells. Both viruses accumulated similar amounts of virus-specific mRNAs and nsp1 protein in infected cells, whereas the amounts of endogenous host mRNAs were clearly higher in SARS-CoV-mt-infected cells than in SARS-CoV-WT-infected cells, in both the presence and absence of actinomycin D. Further, SARS-CoV-WT replication strongly inhibited host protein synthesis, whereas host protein synthesis inhibition in SARS-CoV-mt-infected cells was not as efficient as in SARS-CoV-WT-infected cells. These data revealed that nsp1 indeed promoted host mRNA degradation and contributed to host protein translation inhibition in infected cells. Notably, SARS-CoV-mt infection, but not SARS-CoV-WT infection, induced high levels of beta interferon (IFN) mRNA accumulation and high titers of type I IFN production. These data demonstrated that SARS-CoV nsp1 suppressed host innate immune functions, including type I IFN expression, in infected cells and suggested that SARS-CoV nsp1 most probably plays a critical role in SARS-CoV virulence.\",\n",
            "    \"authors\": \"Narayanan, Krishna; Huang, Cheng; Lokugamage, Kumari; Kamitani, Wataru; Ikegami, Tetsuro; Tseng, Chien-Te K.; Makino, Shinji\",\n",
            "    \"doi\": \"10.1128/JVI.02472-07\",\n",
            "    \"full_text_file\": \"\",\n",
            "    \"has_full_text\": \"False\",\n",
            "    \"journal\": \"\",\n",
            "    \"license\": \"unk\",\n",
            "    \"Microsoft Academic Paper ID\": \"\",\n",
            "    \"pmcid\": \"PMC2293030\",\n",
            "    \"publish_time\": \"\",\n",
            "    \"pubmed_id\": \"\",\n",
            "    \"sha\": \"\",\n",
            "    \"source_x\": \"PMC\",\n",
            "    \"title\": \"Severe Acute Respiratory Syndrome Coronavirus nsp1 Suppresses Host Gene Expression, Including That of Type I Interferon, in Infected Cells\",\n",
            "    \"WHO #Covidence\": \"\"\n",
            "}\n"
          ],
          "name": "stdout"
        }
      ]
    },
    {
      "cell_type": "markdown",
      "metadata": {
        "id": "xw6EjwPgPB_b",
        "colab_type": "text"
      },
      "source": [
        "For hit #8, we have the full text, which we can also fetch via `.raw`: As an example, let's look at to which section the second paragraph belongs."
      ]
    },
    {
      "cell_type": "code",
      "metadata": {
        "id": "lGLZhQgANy3I",
        "colab_type": "code",
        "outputId": "05533f8d-6970-4247-963a-ec075f854aa6",
        "colab": {
          "base_uri": "https://localhost:8080/",
          "height": 34
        }
      },
      "source": [
        "hit8_json = json.loads(hits[7].raw)\n",
        "print(hit8_json['body_text'][1]['section'])"
      ],
      "execution_count": 11,
      "outputs": [
        {
          "output_type": "stream",
          "text": [
            "Introduction\n"
          ],
          "name": "stdout"
        }
      ]
    },
    {
      "cell_type": "markdown",
      "metadata": {
        "id": "7Hbca-fTUDC-",
        "colab_type": "text"
      },
      "source": [
        "Let's extract contextualized vectors of queries and abstracts from SciBERT for highlighting relevant paragraphs from each retrieved paper."
      ]
    },
    {
      "cell_type": "markdown",
      "metadata": {
        "id": "AWUg03EjXF-1",
        "colab_type": "text"
      },
      "source": [
        "First, extract the contextualized vectors of the query above:\n",
        "\n",
        "$$q_1, \\ldots, q_T = \\text{SciBERT}(\\text{query})$$"
      ]
    },
    {
      "cell_type": "code",
      "metadata": {
        "id": "hWmb-SWKTcu1",
        "colab_type": "code",
        "colab": {}
      },
      "source": [
        "def extract_scibert(text, tokenizer, model):\n",
        "  # FIXME: we consider only the first 512 tokens (for now)\n",
        "  text = text[:512]\n",
        "\n",
        "  text_ids = torch.tensor([tokenizer.encode(text, add_special_tokens=True)])\n",
        "  text_words = tokenizer.convert_ids_to_tokens(text_ids[0])[1:-1]\n",
        "\n",
        "  with torch.no_grad():\n",
        "    state = model(text_ids)[0]\n",
        "    state = state[:, 1:-1, :]\n",
        "\n",
        "  return text_ids, text_words, state[0]"
      ],
      "execution_count": 0,
      "outputs": []
    },
    {
      "cell_type": "code",
      "metadata": {
        "id": "e9gFCKohUXNP",
        "colab_type": "code",
        "colab": {}
      },
      "source": [
        "query_ids, query_words, query_state = extract_scibert(query, tokenizer, model)"
      ],
      "execution_count": 0,
      "outputs": []
    },
    {
      "cell_type": "markdown",
      "metadata": {
        "id": "IcAVwQdCXE_P",
        "colab_type": "text"
      },
      "source": [
        "Second, let's extract contextualized vectors of all the paragraphs from the hit #3:\n",
        "\n",
        "$$p_1^k, \\ldots, p_{T_k}^k = \\text{SciBERT}(\\text{paragraph}^k)$$"
      ]
    },
    {
      "cell_type": "code",
      "metadata": {
        "id": "d-NG7C1CUbDg",
        "colab_type": "code",
        "colab": {
          "base_uri": "https://localhost:8080/",
          "height": 34
        },
        "outputId": "a0a3dad9-10b7-4736-923e-3f766b2c7451"
      },
      "source": [
        "# 0-based indexing. use this to choose one of the retrieved documents from above.\n",
        "ii = 3\n",
        "\n",
        "doc_json = json.loads(hits[ii].raw)\n",
        "\n",
        "# TODO: batch process the entire document\n",
        "paragraph_states = []\n",
        "for pid in tqdm(range(len(doc_json['body_text']))):\n",
        "  paragraph_states.append(extract_scibert(doc_json['body_text'][pid]['text'], tokenizer, model))"
      ],
      "execution_count": 14,
      "outputs": [
        {
          "output_type": "stream",
          "text": [
            "100%|██████████| 35/35 [00:08<00:00,  3.96it/s]\n"
          ],
          "name": "stderr"
        }
      ]
    },
    {
      "cell_type": "markdown",
      "metadata": {
        "id": "p_bUm3TOXWdY",
        "colab_type": "text"
      },
      "source": [
        "We then compute the cosine similarity matrix between the query and each paragraph:\n",
        "\n",
        "$$A^k = [a^k_{ij}] \\in \\mathbb{R}^{|\\text{query}| \\times |\\text{paragraph}^k|},$$\n",
        "\n",
        "where\n",
        "\n",
        "$$a^k_{ij} = \\frac{q_i^\\top p_j^k}{\\| q_i \\| \\| p_j^k \\|}$$\n"
      ]
    },
    {
      "cell_type": "code",
      "metadata": {
        "id": "m6oZIW3OUbLv",
        "colab_type": "code",
        "colab": {}
      },
      "source": [
        "def cross_match(state1, state2):\n",
        "  state1 = state1 / torch.sqrt((state1 ** 2).sum(1, keepdims=True))\n",
        "  state2 = state2 / torch.sqrt((state2 ** 2).sum(1, keepdims=True))\n",
        "\n",
        "  sim = (state1.unsqueeze(1) * state2.unsqueeze(0)).sum(-1)\n",
        "\n",
        "  return sim"
      ],
      "execution_count": 0,
      "outputs": []
    },
    {
      "cell_type": "code",
      "metadata": {
        "id": "MK8Na3sGUbSG",
        "colab_type": "code",
        "colab": {
          "base_uri": "https://localhost:8080/",
          "height": 34
        },
        "outputId": "c5a065e5-638d-41a2-f629-613b0ce2259c"
      },
      "source": [
        "sim_matrices = []\n",
        "\n",
        "for pid in tqdm(range(len(doc_json['body_text']))):\n",
        "  sim_matrices.append(cross_match(query_state, paragraph_states[pid][-1]))"
      ],
      "execution_count": 16,
      "outputs": [
        {
          "output_type": "stream",
          "text": [
            "100%|██████████| 35/35 [00:00<00:00, 1287.08it/s]\n"
          ],
          "name": "stderr"
        }
      ]
    },
    {
      "cell_type": "markdown",
      "metadata": {
        "id": "oRKhDGzdXYr4",
        "colab_type": "text"
      },
      "source": [
        "Let's retrieve the most relevant paragraphs first, where define the top-$M$ most relevant paragraphs as \n",
        "\n",
        "$$\\arg\\text{top-$M$}_{k=1}^K \\max_{i=1,\\ldots,|\\text{query}|} \\max_{j=1,\\ldots, |\\text{paragraph}^k|} A_{ij}^k$$\n",
        "\n",
        "that is, a paragraph with the highly matched words to the query words is considered relevant."
      ]
    },
    {
      "cell_type": "code",
      "metadata": {
        "id": "-3hJ1dAAUSWQ",
        "colab_type": "code",
        "colab": {}
      },
      "source": [
        "paragraph_relevance = [torch.max(sim).item() for sim in sim_matrices]\n",
        "rel_index = numpy.argsort(paragraph_relevance)[-5:][::-1]"
      ],
      "execution_count": 0,
      "outputs": []
    },
    {
      "cell_type": "code",
      "metadata": {
        "id": "bQhkuCc1Xp8s",
        "colab_type": "code",
        "colab": {
          "base_uri": "https://localhost:8080/",
          "height": 449
        },
        "outputId": "af3b8614-e86d-4941-dfe8-e21b50eae7f3"
      },
      "source": [
        "display(HTML('<div style=\"font-family: Times New Roman; font-size: 20px; padding-bottom:12px\"><b>Query</b>: '+query+'</div>'))\n",
        "\n",
        "display(HTML('<div style=\"font-family: Times New Roman; font-size: 20px; padding-bottom:12px\"><b>Document</b>: '+\n",
        "             F'{hits[i].lucene_document.get(\"authors\")} et al. ' +\n",
        "             F'{hits[i].lucene_document.get(\"title\")}. ' + \n",
        "             F'<a href=\"https://doi.org/{hits[i].lucene_document.get(\"doi\")}\">{hits[i].lucene_document.get(\"doi\")}</a>.' +\n",
        "             '</div>'))\n",
        "\n",
        "for ri in numpy.sort(rel_index):\n",
        "  display(HTML('<div style=\"font-family: Times New Roman; font-size: 18px; padding-bottom:10px; margin-left: 15px\">' + \n",
        "               F'<b>{doc_json[\"body_text\"][ri][\"section\"]}</b> -- ' +\n",
        "               F'{\" \".join(paragraph_states[ri][1]).replace(\" ##\",\"\")}' + ' ... </div>'))"
      ],
      "execution_count": 18,
      "outputs": [
        {
          "output_type": "display_data",
          "data": {
            "text/html": [
              "<div style=\"font-family: Times New Roman; font-size: 20px; padding-bottom:12px\"><b>Query</b>: integration degradation synthesis host immune</div>"
            ],
            "text/plain": [
              "<IPython.core.display.HTML object>"
            ]
          },
          "metadata": {
            "tags": []
          }
        },
        {
          "output_type": "display_data",
          "data": {
            "text/html": [
              "<div style=\"font-family: Times New Roman; font-size: 20px; padding-bottom:12px\"><b>Document</b>: Joeri Kint et al. Infectious Bronchitis Coronavirus Limits Interferon Production by Inducing a Host Shutoff That Requires Accessory Protein 5b. <a href=\"https://doi.org/10.1128/JVI.00627-16\">10.1128/JVI.00627-16</a>.</div>"
            ],
            "text/plain": [
              "<IPython.core.display.HTML object>"
            ]
          },
          "metadata": {
            "tags": []
          }
        },
        {
          "output_type": "display_data",
          "data": {
            "text/html": [
              "<div style=\"font-family: Times New Roman; font-size: 18px; padding-bottom:10px; margin-left: 15px\"><b>Introduction</b> -- inhibition of host gene expression , termed \" host shutoff \" , is thought to enable viruses to simultaneously inhibit innate immune responses and provide preferential access for viral mrnas to the cellular translation machinery . influenza a virus ( iav ) has long been known to carry out host shutoff , and multiple shutoff mechanisms have been reported for this virus , including translation blockade [ 1 ] , inhibition of polyadenylation and nuclear export of host pre - mrnas by the iav ns1 protein [ 2 ] , and degradation ... </div>"
            ],
            "text/plain": [
              "<IPython.core.display.HTML object>"
            ]
          },
          "metadata": {
            "tags": []
          }
        },
        {
          "output_type": "display_data",
          "data": {
            "text/html": [
              "<div style=\"font-family: Times New Roman; font-size: 18px; padding-bottom:10px; margin-left: 15px\"><b>PA-X-mediated RNA degradation requires the host RNase Xrn1</b> -- we previously found that herpesvirus and coronavirus host shutoff endonucleases employ analogous mechanisms to trigger widespread rna degradation , whereby endonuclease cleavage of target rna is followed by processive 5 ' - > 3 ' degradation by the host exonuclease xrn1 [ 14 ] . to determine whether pa - x requires host 5 ' - > 3 ' exonucleases to complete rna degradation , we tested plasmid reporters that contain a pseudo - knot forming sequence from west nile virus ( slii [ 36 ] ) in either the gfp coding region or the 3 ' utr ... </div>"
            ],
            "text/plain": [
              "<IPython.core.display.HTML object>"
            ]
          },
          "metadata": {
            "tags": []
          }
        },
        {
          "output_type": "display_data",
          "data": {
            "text/html": [
              "<div style=\"font-family: Times New Roman; font-size: 18px; padding-bottom:10px; margin-left: 15px\"><b>Translation is not required for PA-X-mediated degradation of Pol II transcripts</b> -- pol ii - transcribed host rnas are selectively degraded by pa - x during iav infection ... </div>"
            ],
            "text/plain": [
              "<IPython.core.display.HTML object>"
            ]
          },
          "metadata": {
            "tags": []
          }
        },
        {
          "output_type": "display_data",
          "data": {
            "text/html": [
              "<div style=\"font-family: Times New Roman; font-size: 18px; padding-bottom:10px; margin-left: 15px\"><b>Discussion</b> -- although we cannot exclude that other processes connected to translation are important for rna degradation , our data strongly indicate that translation per se is not required . our data point instead to the processing of pol ii transcripts in the nucleus as the link between pa - x and its target . importantly , our examination of endogenous and reporter pol ii transcripts that differ in their 3 ' end processing suggests that this step in biogenesis may be recognised by pa - x to find its targets . in our experiments ... </div>"
            ],
            "text/plain": [
              "<IPython.core.display.HTML object>"
            ]
          },
          "metadata": {
            "tags": []
          }
        },
        {
          "output_type": "display_data",
          "data": {
            "text/html": [
              "<div style=\"font-family: Times New Roman; font-size: 18px; padding-bottom:10px; margin-left: 15px\"><b>Discussion</b> -- also , because increased in vitro activity has been reported for pa - x vs . the n terminal rnase domain alone [ 38 ] , the x - orf probably has additional roles in rna degradation by pa - x . ... </div>"
            ],
            "text/plain": [
              "<IPython.core.display.HTML object>"
            ]
          },
          "metadata": {
            "tags": []
          }
        }
      ]
    },
    {
      "cell_type": "markdown",
      "metadata": {
        "id": "d3H0XQ8IZfAN",
        "colab_type": "text"
      },
      "source": [
        "We want to look at more details by highlighting relevant phrases in each paragraph, where we define relevant phrases for each paragraph as\n",
        "\n",
        "$$\\arg\\text{top-$M$}_{j=1,\\ldots, |\\text{paragraph}^k|} \\max_{i=1,\\ldots,|\\text{query}|} A_{ij}^k$$\n",
        "\n",
        "that is, any word that had a high similarity to each of the query words is considered relevant. given these words, we highlight a window of 10 surrounding each of them."
      ]
    },
    {
      "cell_type": "code",
      "metadata": {
        "id": "ZMxkQ0_PZiOQ",
        "colab_type": "code",
        "colab": {
          "base_uri": "https://localhost:8080/",
          "height": 427
        },
        "outputId": "93dcbdbc-af61-4354-82c7-ccb6b1ac784e"
      },
      "source": [
        "display(HTML('<div style=\"font-family: Times New Roman; font-size: 20px; padding-bottom:12px\"><b>Query</b>: '+query+'</div>'))\n",
        "\n",
        "display(HTML('<div style=\"font-family: Times New Roman; font-size: 20px; padding-bottom:12px\"><b>Document</b>: '+\n",
        "             F'{hits[i].lucene_document.get(\"authors\")} et al. ' +\n",
        "             F'{hits[i].lucene_document.get(\"title\")}. ' + \n",
        "             F'<a href=\"https://doi.org/{hits[i].lucene_document.get(\"doi\")}\">{hits[i].lucene_document.get(\"doi\")}</a>.' +\n",
        "             '</div>'))\n",
        "\n",
        "for ri in numpy.sort(rel_index):\n",
        "  sim = sim_matrices[ri].data.numpy()\n",
        "  rel_words = numpy.sort(numpy.argsort(sim.max(0))[-5:][::-1])\n",
        "\n",
        "  ptext = paragraph_states[ri][1]\n",
        "\n",
        "  para = \"\"\n",
        "  prev_idx = 0\n",
        "  for jj in rel_words:\n",
        "    para = para + \" \"\n",
        "    para = para + \" \".join(ptext[prev_idx:numpy.maximum(prev_idx,jj-5)])\n",
        "    para = para + \" <font color='red'>\"\n",
        "    para = para + \" \".join(ptext[numpy.maximum(prev_idx,jj-5):jj+5])\n",
        "    para = para + \"</font> \"\n",
        "    prev_idx = jj+5\n",
        "\n",
        "  display(HTML('<div style=\"font-family: Times New Roman; font-size: 18px; padding-bottom:10px; margin-left: 15px\">' + \n",
        "               F'<b>{doc_json[\"body_text\"][ri][\"section\"]}</b> -- ' +\n",
        "               F'{para.replace(\" ##\",\"\")}' + ' ... </div>'))"
      ],
      "execution_count": 19,
      "outputs": [
        {
          "output_type": "display_data",
          "data": {
            "text/html": [
              "<div style=\"font-family: Times New Roman; font-size: 20px; padding-bottom:12px\"><b>Query</b>: integration degradation synthesis host immune</div>"
            ],
            "text/plain": [
              "<IPython.core.display.HTML object>"
            ]
          },
          "metadata": {
            "tags": []
          }
        },
        {
          "output_type": "display_data",
          "data": {
            "text/html": [
              "<div style=\"font-family: Times New Roman; font-size: 20px; padding-bottom:12px\"><b>Document</b>: Joeri Kint et al. Infectious Bronchitis Coronavirus Limits Interferon Production by Inducing a Host Shutoff That Requires Accessory Protein 5b. <a href=\"https://doi.org/10.1128/JVI.00627-16\">10.1128/JVI.00627-16</a>.</div>"
            ],
            "text/plain": [
              "<IPython.core.display.HTML object>"
            ]
          },
          "metadata": {
            "tags": []
          }
        },
        {
          "output_type": "display_data",
          "data": {
            "text/html": [
              "<div style=\"font-family: Times New Roman; font-size: 18px; padding-bottom:10px; margin-left: 15px\"><b>Introduction</b> --   <font color='red'>inhibition of host gene expression , termed</font>  \" host shutoff \" , is thought to <font color='red'>enable viruses to simultaneously inhibit innate immune responses and provide</font>   <font color='red'>preferential</font>  access for viral mrnas to the cellular translation machinery . influenza a virus ( iav ) has long been known to carry out host shutoff , and multiple shutoff mechanisms have been reported for this virus , including translation blockade [ 1 ] , inhibition of polyaden <font color='red'>##ylation and nuclear export of host pre - mrn</font> as by the iav ns1 protein <font color='red'>[ 2 ] , and degradation</font>  ... </div>"
            ],
            "text/plain": [
              "<IPython.core.display.HTML object>"
            ]
          },
          "metadata": {
            "tags": []
          }
        },
        {
          "output_type": "display_data",
          "data": {
            "text/html": [
              "<div style=\"font-family: Times New Roman; font-size: 18px; padding-bottom:10px; margin-left: 15px\"><b>PA-X-mediated RNA degradation requires the host RNase Xrn1</b> --  we previously found that herpesvirus and coronavirus host shutoff endonucleases <font color='red'>employ analogous mechanisms to trigger widespread rna degradation ,</font>   <font color='red'>whereby endonuclease</font>  cleavage of target rna is followed by processive 5 ' - > 3 ' degradation by the host exonuclease xrn1 [ 14 ] . to determine whether pa - x requires host 5 ' - > 3 ' exonucle <font color='red'>##ases to complete rna degradation , we tested plasmid</font>  reporters <font color='red'>that contain a pseudo - knot forming sequence from west</font>   <font color='red'>nil</font>  ... </div>"
            ],
            "text/plain": [
              "<IPython.core.display.HTML object>"
            ]
          },
          "metadata": {
            "tags": []
          }
        },
        {
          "output_type": "display_data",
          "data": {
            "text/html": [
              "<div style=\"font-family: Times New Roman; font-size: 18px; padding-bottom:10px; margin-left: 15px\"><b>Translation is not required for PA-X-mediated degradation of Pol II transcripts</b> --   <font color='red'>pol ii - transcribed host</font>   <font color='red'>rnas are selectively</font>   <font color='red'>degraded by pa</font>   <font color='red'>- x</font>   <font color='red'>during iav infection</font>  ... </div>"
            ],
            "text/plain": [
              "<IPython.core.display.HTML object>"
            ]
          },
          "metadata": {
            "tags": []
          }
        },
        {
          "output_type": "display_data",
          "data": {
            "text/html": [
              "<div style=\"font-family: Times New Roman; font-size: 18px; padding-bottom:10px; margin-left: 15px\"><b>Discussion</b> --  although we cannot exclude that other processes <font color='red'>connected to translation are important for rna degradation ,</font>   <font color='red'>our data strongly</font>  indicate that translation per se is not required . our data point instead to the processing of pol ii transcripts in the nucleus as the link between pa - <font color='red'>x and its target . importantly , our examination of</font>  endogenous and reporter pol ii transcripts that differ in their 3 ' end processing <font color='red'>suggests that this step in biogenesis may be recognised by</font>  pa - <font color='red'>x to find its targets . in our experiments</font>  ... </div>"
            ],
            "text/plain": [
              "<IPython.core.display.HTML object>"
            ]
          },
          "metadata": {
            "tags": []
          }
        },
        {
          "output_type": "display_data",
          "data": {
            "text/html": [
              "<div style=\"font-family: Times New Roman; font-size: 18px; padding-bottom:10px; margin-left: 15px\"><b>Discussion</b> --   <font color='red'>also , because increased in</font>  vitro activity has been reported for pa - x vs <font color='red'>. the n terminal rnase domain alone [ 38</font>  ] , <font color='red'>the x - orf probably has additional roles in</font>   <font color='red'>rna degradation by pa -</font>   <font color='red'>x</font>  ... </div>"
            ],
            "text/plain": [
              "<IPython.core.display.HTML object>"
            ]
          },
          "metadata": {
            "tags": []
          }
        }
      ]
    },
    {
      "cell_type": "code",
      "metadata": {
        "id": "fKLMAXDOkTdW",
        "colab_type": "code",
        "colab": {}
      },
      "source": [
        ""
      ],
      "execution_count": 0,
      "outputs": []
    }
  ]
}