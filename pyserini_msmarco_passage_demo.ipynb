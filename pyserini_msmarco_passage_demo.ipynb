{
  "nbformat": 4,
  "nbformat_minor": 0,
  "metadata": {
    "colab": {
      "name": "pyserini-msmarco-passage-demo.ipynb",
      "provenance": [],
      "collapsed_sections": [],
      "include_colab_link": true
    },
    "kernelspec": {
      "name": "python3",
      "display_name": "Python 3"
    }
  },
  "cells": [
    {
      "cell_type": "markdown",
      "metadata": {
        "id": "view-in-github",
        "colab_type": "text"
      },
      "source": [
        "<a href=\"https://colab.research.google.com/github/castorini/anserini-notebooks/blob/master/pyserini_msmarco_passage_demo.ipynb\" target=\"_parent\"><img src=\"https://colab.research.google.com/assets/colab-badge.svg\" alt=\"Open In Colab\"/></a>"
      ]
    },
    {
      "cell_type": "markdown",
      "metadata": {
        "id": "vUpmSFflwzR1"
      },
      "source": [
        "# Pyserini Demo on the MS MARCO Passage Dataset"
      ]
    },
    {
      "cell_type": "markdown",
      "metadata": {
        "id": "-2PzgU4YxIl3"
      },
      "source": [
        "This notebook replicates the BM25 baseline for the [MS MARCO passage ranking task](http://www.msmarco.org/) with [Pyserini](http://pyserini.io/), the Python interface to [Anserini](http://anserini.io).\n"
      ]
    },
    {
      "cell_type": "markdown",
      "metadata": {
        "id": "XR8bFJc0DgaE"
      },
      "source": [
        "## Installation\n"
      ]
    },
    {
      "cell_type": "markdown",
      "metadata": {
        "id": "f2vNd7bpJlDZ"
      },
      "source": [
        "Install Python dependencies:\n"
      ]
    },
    {
      "cell_type": "code",
      "metadata": {
        "id": "E_lt0-pXJia0"
      },
      "source": [
        "%%capture\n",
        "!pip install pyserini==0.12.0\n",
        "\n",
        "import os\n",
        "os.environ[\"JAVA_HOME\"] = \"/usr/lib/jvm/java-11-openjdk-amd64\""
      ],
      "execution_count": 1,
      "outputs": []
    },
    {
      "cell_type": "markdown",
      "metadata": {
        "id": "RJ2MrEUuEk4D"
      },
      "source": [
        "## Usage"
      ]
    },
    {
      "cell_type": "markdown",
      "metadata": {
        "id": "NkD0kKxW9mHP"
      },
      "source": [
        "You can use `pysearch` to search over an index. The questions (called \"topics\" in TREC parlance) are already distributed in Pyserini:"
      ]
    },
    {
      "cell_type": "code",
      "metadata": {
        "id": "BeCaeA3qua4g",
        "colab": {
          "base_uri": "https://localhost:8080/"
        },
        "outputId": "47ca8dbf-95a8-4318-80fd-eb9b5f146a9b"
      },
      "source": [
        "from pyserini.search import get_topics\n",
        "\n",
        "topics = get_topics('msmarco-passage-dev-subset')\n",
        "print(f'{len(topics)} queries total')"
      ],
      "execution_count": 2,
      "outputs": [
        {
          "output_type": "stream",
          "text": [
            "6980 queries total\n"
          ],
          "name": "stdout"
        }
      ]
    },
    {
      "cell_type": "markdown",
      "metadata": {
        "id": "YTQq2aZrvsXR"
      },
      "source": [
        "Let's take a look at a specific question. Topics often have different \"fields\": \"title\" is the one we want. (Again, this is just TREC parlance.)"
      ]
    },
    {
      "cell_type": "code",
      "metadata": {
        "id": "gAKHfd-2ux8h",
        "colab": {
          "base_uri": "https://localhost:8080/",
          "height": 35
        },
        "outputId": "2b9bd9b7-c4b5-47f9-d0d0-9948ea194b01"
      },
      "source": [
        "topics[1102400]['title']"
      ],
      "execution_count": 3,
      "outputs": [
        {
          "output_type": "execute_result",
          "data": {
            "application/vnd.google.colaboratory.intrinsic+json": {
              "type": "string"
            },
            "text/plain": [
              "'why do bears hibernate'"
            ]
          },
          "metadata": {
            "tags": []
          },
          "execution_count": 3
        }
      ]
    },
    {
      "cell_type": "markdown",
      "metadata": {
        "id": "XaZi5frIwEPp"
      },
      "source": [
        "Next, we can initialize a searcher with a pre-built index, which Pyserini will automatically download:"
      ]
    },
    {
      "cell_type": "code",
      "metadata": {
        "colab": {
          "base_uri": "https://localhost:8080/"
        },
        "id": "INml5nQRM8Fq",
        "outputId": "433846a8-1285-4809-ccab-98f7e8de01a1"
      },
      "source": [
        "from pyserini.search import SimpleSearcher\n",
        "\n",
        "searcher = SimpleSearcher.from_prebuilt_index('msmarco-passage')"
      ],
      "execution_count": 4,
      "outputs": [
        {
          "output_type": "stream",
          "text": [
            "\rindex-msmarco-passage-20201117-f87c94.tar.gz: 0.00B [00:00, ?B/s]"
          ],
          "name": "stderr"
        },
        {
          "output_type": "stream",
          "text": [
            "Attempting to initialize pre-built index msmarco-passage.\n",
            "Downloading index at https://git.uwaterloo.ca/jimmylin/anserini-indexes/raw/master/index-msmarco-passage-20201117-f87c94.tar.gz...\n"
          ],
          "name": "stdout"
        },
        {
          "output_type": "stream",
          "text": [
            "index-msmarco-passage-20201117-f87c94.tar.gz: 2.07GB [01:05, 34.0MB/s]                            \n"
          ],
          "name": "stderr"
        },
        {
          "output_type": "stream",
          "text": [
            "Extracting /root/.cache/pyserini/indexes/index-msmarco-passage-20201117-f87c94.tar.gz into /root/.cache/pyserini/indexes/index-msmarco-passage-20201117-f87c94.1efad4f1ae6a77e235042eff4be1612d...\n",
            "Initializing msmarco-passage...\n"
          ],
          "name": "stdout"
        }
      ]
    },
    {
      "cell_type": "markdown",
      "metadata": {
        "id": "slmoo3MiM8c3"
      },
      "source": [
        "Now we can search:"
      ]
    },
    {
      "cell_type": "code",
      "metadata": {
        "id": "yFZlcqEX0t1f",
        "colab": {
          "base_uri": "https://localhost:8080/"
        },
        "outputId": "8371d464-79d2-4aa3-a726-b676c3d20a2d"
      },
      "source": [
        "import json\n",
        "\n",
        "hits = searcher.search(topics[1102400]['title'])\n",
        "\n",
        "# Prints the first 10 hits\n",
        "for i in range(0, 10):\n",
        "    jsondoc = json.loads(hits[i].raw)\n",
        "    print(f'{i+1:2} {hits[i].score:.5f} {jsondoc[\"contents\"][:80]}...')"
      ],
      "execution_count": 5,
      "outputs": [
        {
          "output_type": "stream",
          "text": [
            " 1 17.33580 Why do Bears hibernate? March 31, 2010, Joan, Leave a comment. Why do bears hibe...\n",
            " 2 13.23090 Why do bears hibernate? Watch this to discover how much effort is spent on survi...\n",
            " 3 13.13570 Technically, as the other anwerer said, bears do not hibernate, but there isn't ...\n",
            " 4 13.01460 It is a common misconception that bears hibernate during the winter. While bears...\n",
            " 5 13.00390 To prepare for hibernation, grizzlies must prepare a den, and consume an immense...\n",
            " 6 12.68940 Some zoo bears are fed year round, and do not hibernate. Since they do not under...\n",
            " 7 12.55450 Bears in zoos will not hibernate if food is available, though they will slow dow...\n",
            " 8 12.51710 All kinds of bears technically don't hibernate. They enter into a phase called t...\n",
            " 9 12.43500 Date: 12-11-2012. It is a common misconception that bears hibernate during the w...\n",
            "10 12.37460 While bears tend to slow down during the winter, they are not true hibernators. ...\n"
          ],
          "name": "stdout"
        }
      ]
    },
    {
      "cell_type": "markdown",
      "metadata": {
        "id": "xw6EjwPgPB_b"
      },
      "source": [
        "The `hits` data structure holds the `docid`, the retrieval score, as well as the document content:"
      ]
    },
    {
      "cell_type": "code",
      "metadata": {
        "id": "lGLZhQgANy3I",
        "colab": {
          "base_uri": "https://localhost:8080/",
          "height": 61
        },
        "outputId": "ecef1ef8-c570-467e-f36a-400ce3edaa12"
      },
      "source": [
        "from IPython.core.display import display, HTML\n",
        "display(HTML('<div style=\"font-family: Times New Roman; padding-bottom:10px\">' + hits[0].raw + '</div>'))"
      ],
      "execution_count": 6,
      "outputs": [
        {
          "output_type": "display_data",
          "data": {
            "text/html": [
              "<div style=\"font-family: Times New Roman; padding-bottom:10px\">{\n",
              "  \"id\" : \"7287406\",\n",
              "  \"contents\" : \"Why do Bears hibernate? March 31, 2010, Joan, Leave a comment. Why do bears hibernate? When we hear the word âhibernateâ we always associate it with bears. That is because, while a lot of animals go through hibernation during the winter season such as squirrels, rodents and bats, the bear is the most famous when it comes to hibernating. What comes first to our mind is why do bears hibernate? First of all, letâs get to know the meaning of hibernation.\"\n",
              "}</div>"
            ],
            "text/plain": [
              "<IPython.core.display.HTML object>"
            ]
          },
          "metadata": {
            "tags": []
          }
        }
      ]
    },
    {
      "cell_type": "markdown",
      "metadata": {
        "id": "JOLbQXmPOvbJ"
      },
      "source": [
        "Let's run all the queries from the dev set:"
      ]
    },
    {
      "cell_type": "code",
      "metadata": {
        "id": "03sPnM3wWBfJ",
        "colab": {
          "base_uri": "https://localhost:8080/"
        },
        "outputId": "d511a199-3ece-4b6a-bbb2-b5d151d2d449"
      },
      "source": [
        "from pyserini.search import SimpleSearcher\n",
        "\n",
        "def run_all_queries(file, topics, searcher):\n",
        "    with open(file, 'w') as runfile:\n",
        "        cnt = 0\n",
        "        print('Running {} queries in total'.format(len(topics)))\n",
        "        for id in topics:\n",
        "            query = topics[id]['title']\n",
        "            hits = searcher.search(query, 1000)\n",
        "            for i in range(0, len(hits)):\n",
        "                _ = runfile.write('{} Q0 {} {} {:.6f} Anserini\\n'.format(id, hits[i].docid, i+1, hits[i].score))\n",
        "            cnt += 1\n",
        "            if cnt % 100 == 0:\n",
        "                print(f'{cnt} queries completed')\n",
        "\n",
        "searcher = SimpleSearcher.from_prebuilt_index('msmarco-passage')\n",
        "\n",
        "run_all_queries('run-msmarco-passage-bm25.txt', topics, searcher)\n"
      ],
      "execution_count": 7,
      "outputs": [
        {
          "output_type": "stream",
          "text": [
            "Attempting to initialize pre-built index msmarco-passage.\n",
            "/root/.cache/pyserini/indexes/index-msmarco-passage-20201117-f87c94.1efad4f1ae6a77e235042eff4be1612d already exists, skipping download.\n",
            "Initializing msmarco-passage...\n",
            "Running 6980 queries in total\n",
            "100 queries completed\n",
            "200 queries completed\n",
            "300 queries completed\n",
            "400 queries completed\n",
            "500 queries completed\n",
            "600 queries completed\n",
            "700 queries completed\n",
            "800 queries completed\n",
            "900 queries completed\n",
            "1000 queries completed\n",
            "1100 queries completed\n",
            "1200 queries completed\n",
            "1300 queries completed\n",
            "1400 queries completed\n",
            "1500 queries completed\n",
            "1600 queries completed\n",
            "1700 queries completed\n",
            "1800 queries completed\n",
            "1900 queries completed\n",
            "2000 queries completed\n",
            "2100 queries completed\n",
            "2200 queries completed\n",
            "2300 queries completed\n",
            "2400 queries completed\n",
            "2500 queries completed\n",
            "2600 queries completed\n",
            "2700 queries completed\n",
            "2800 queries completed\n",
            "2900 queries completed\n",
            "3000 queries completed\n",
            "3100 queries completed\n",
            "3200 queries completed\n",
            "3300 queries completed\n",
            "3400 queries completed\n",
            "3500 queries completed\n",
            "3600 queries completed\n",
            "3700 queries completed\n",
            "3800 queries completed\n",
            "3900 queries completed\n",
            "4000 queries completed\n",
            "4100 queries completed\n",
            "4200 queries completed\n",
            "4300 queries completed\n",
            "4400 queries completed\n",
            "4500 queries completed\n",
            "4600 queries completed\n",
            "4700 queries completed\n",
            "4800 queries completed\n",
            "4900 queries completed\n",
            "5000 queries completed\n",
            "5100 queries completed\n",
            "5200 queries completed\n",
            "5300 queries completed\n",
            "5400 queries completed\n",
            "5500 queries completed\n",
            "5600 queries completed\n",
            "5700 queries completed\n",
            "5800 queries completed\n",
            "5900 queries completed\n",
            "6000 queries completed\n",
            "6100 queries completed\n",
            "6200 queries completed\n",
            "6300 queries completed\n",
            "6400 queries completed\n",
            "6500 queries completed\n",
            "6600 queries completed\n",
            "6700 queries completed\n",
            "6800 queries completed\n",
            "6900 queries completed\n"
          ],
          "name": "stdout"
        }
      ]
    },
    {
      "cell_type": "markdown",
      "metadata": {
        "id": "dIQOe8cbgknl"
      },
      "source": [
        "Let's evaluate using `trec_eval`: the expected MAP should be 0.1926."
      ]
    },
    {
      "cell_type": "code",
      "metadata": {
        "id": "YacoQ28AZtQx",
        "colab": {
          "base_uri": "https://localhost:8080/"
        },
        "outputId": "ded0d8ec-30e7-4fbb-9b0a-876f7fbee5ac"
      },
      "source": [
        "!python -m pyserini.eval.trec_eval -c -mrecall.1000 -mmap msmarco-passage-dev-subset run-msmarco-passage-bm25.txt"
      ],
      "execution_count": 8,
      "outputs": [
        {
          "output_type": "stream",
          "text": [
            "Downloading https://search.maven.org/remotecontent?filepath=uk/ac/gla/dcs/terrierteam/jtreceval/0.0.5/jtreceval-0.0.5-jar-with-dependencies.jar to /root/.cache/pyserini/eval/jtreceval-0.0.5-jar-with-dependencies.jar...\n",
            "jtreceval-0.0.5-jar-with-dependencies.jar: 1.79MB [00:00, 3.04MB/s]                \n",
            "Running command: ['java', '-jar', '/root/.cache/pyserini/eval/jtreceval-0.0.5-jar-with-dependencies.jar', '-c', '-mrecall.1000', '-mmap', '/root/.cache/pyserini/topics-and-qrels/qrels.msmarco-passage.dev-subset.txt', 'run-msmarco-passage-bm25.txt']\n",
            "Results:\n",
            "map                   \tall\t0.1926\n",
            "recall_1000           \tall\t0.8526\n",
            "\n"
          ],
          "name": "stdout"
        }
      ]
    }
  ]
}